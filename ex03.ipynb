{
 "cells": [
  {
   "cell_type": "code",
   "execution_count": 8,
   "id": "ec290e65-e977-493e-b2ec-de2cb96d3b39",
   "metadata": {},
   "outputs": [
    {
     "name": "stdout",
     "output_type": "stream",
     "text": [
      "[1, 3, 4, 5]\n",
      "{'name': '토니스타크', 'heroname': '아이언맨'}\n",
      "{1, 2, 4, 7, 9}\n",
      "{1, 2, 3}\n",
      "1 3 4 5 \n",
      "name:토니스타크 heroname:아이언맨 "
     ]
    }
   ],
   "source": [
    "a = [1,3,4,5]  #리스트\n",
    "b = {\"name\":\"토니스타크\", \"heroname\":\"아이언맨\"} #딕셔너리\n",
    "c = {1, 2, 4, 7, 9} #튜플, 값을 변경할 수 없음\n",
    "d = {1, 2, 2, 3} #셋(집합) 중복제거\n",
    "\n",
    "print(a)\n",
    "print(b)\n",
    "print(c)\n",
    "print(d)\n",
    "\n",
    "for i in a:  #리스트,셋,튜플\n",
    "    print(i,end=\" \")\n",
    "print()\n",
    "for k,v in b.items():  #딕셔너리\n",
    "    print(f'{k}:{v}',end=\" \")    \n",
    "\n",
    "    "
   ]
  },
  {
   "cell_type": "code",
   "execution_count": 11,
   "id": "0e34b377-d0fa-4b53-ab05-fe7a701539ad",
   "metadata": {},
   "outputs": [
    {
     "name": "stdout",
     "output_type": "stream",
     "text": [
      "<class 'list'>\n",
      "(1, 2, 3)\n",
      "<class 'tuple'>\n"
     ]
    }
   ],
   "source": [
    "a = [(1,2,3),(4,5,6),(7,8,9),(10,11,12)]\n",
    "print(type(a))\n",
    "\n",
    "print(a[0])\n",
    "print(type(a[0]))"
   ]
  },
  {
   "cell_type": "code",
   "execution_count": 21,
   "id": "b79cd968-da4a-4c64-af6c-731e182b2c32",
   "metadata": {},
   "outputs": [
    {
     "name": "stdout",
     "output_type": "stream",
     "text": [
      "<class 'dict'>\n",
      "토니스타크\n",
      "스티브로저스\n"
     ]
    }
   ],
   "source": [
    "a={\"code\":\"어벤저스\",\n",
    "   \"member\":[{\"name\":\"토니스타크\", \"heroname\":\"아이언맨\"},{\"name\":\"스티브로저스\", \"heroname\":\"캡틴아메리카\"}]}\n",
    "print(type(a))\n",
    "\n",
    "print(a[\"member\"][0][\"name\"])\n",
    "print(a[\"member\"][1][\"name\"])"
   ]
  }
 ],
 "metadata": {
  "kernelspec": {
   "display_name": "Python 3",
   "language": "python",
   "name": "python3"
  },
  "language_info": {
   "codemirror_mode": {
    "name": "ipython",
    "version": 3
   },
   "file_extension": ".py",
   "mimetype": "text/x-python",
   "name": "python",
   "nbconvert_exporter": "python",
   "pygments_lexer": "ipython3",
   "version": "3.8.8"
  }
 },
 "nbformat": 4,
 "nbformat_minor": 5
}
