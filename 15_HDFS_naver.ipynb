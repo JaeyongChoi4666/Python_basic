{
 "cells": [
  {
   "cell_type": "code",
   "execution_count": 23,
   "id": "9035f0b9-6113-4d96-8508-0e0eb9afafab",
   "metadata": {},
   "outputs": [
    {
     "name": "stdout",
     "output_type": "stream",
     "text": [
      "https://search.pstatic.net/common/?src=http%3A%2F%2Fblogfiles.naver.net%2FMjAyMTA1MTlfMjE2%2FMDAxNjIxNDMzNjU5ODMz.kpbE1geurXEVPNUnyAJEUxO6APD7yHScxPHeQp-dmqIg.n82PDSTdqjJQFKfk1pVrwmKNkm6cOLQX42ZO9DHGXjcg.PNG.ghks9784%2F388.png&type=a340\n",
      "==================================================\n",
      "https://search.pstatic.net/common/?src=http%3A%2F%2Fblogfiles.naver.net%2FMjAyMTAzMjdfMjAw%2FMDAxNjE2ODM5OTQ4NTQ0.RbaEbP33EVgN_MPxe8GjSX2Gab-e9CHOCsnIYEZC_x8g.3RHafU6x2Jpp7ANySJEk8GrEKYyKEPwmvXaWaQSJwwwg.JPEG.1010olivia%2F20210327%25A3%25DF175216.jpg&type=a340\n",
      "==================================================\n",
      "https://search.pstatic.net/common/?src=http%3A%2F%2Fblogfiles.naver.net%2FMjAyMTAzMzBfNzYg%2FMDAxNjE3MDkwMTk2OTkz.SecsTCcJ897LZAWgjbCQBRfpU8Nh_LonJ0KEmCJMaE8g.J4gBQXtftyW7w0d93f0ujPOC_nwPj3EtjDTtdXrL4ywg.JPEG.geonukang11%2F20210330%25A3%25DF154727.jpg&type=a340\n",
      "==================================================\n",
      "https://search.pstatic.net/common/?src=http%3A%2F%2Fblogfiles.naver.net%2FMjAyMTAyMjZfMTQ5%2FMDAxNjE0Mjg5NjQ0OTE5.OSkxWI6G7LSIwss2MRzTsCi3zoxeRew718S-pG7ANe4g.mlQKhr_wFAIbDZeCIza35VfLeusLOpaHJ_qXYxv4knIg.PNG.whaudfo8%2F%25C1%25A6%25B8%25F1%25C0%25BB-%25C0%25D4%25B7%25C2%25C7%25D8%25C1%25D6%25BC%25BC%25BF%25E4.-001_%252845%2529.png&type=a340\n",
      "==================================================\n",
      "data:image/gif;base64,R0lGODlhAQABAIAAAAAAAP///yH5BAEAAAAALAAAAAABAAEAAAIBRAA7\n",
      "==================================================\n",
      "https://search.pstatic.net/common/?src=http%3A%2F%2Fblogfiles.naver.net%2FMjAyMTAzMDRfMjA2%2FMDAxNjE0ODYwNDg4NzQ4.Y5Jp2INUUSB-FvyTOeMEDrKdjh2pYgEpIxKw5wlwNrQg.4VazRN5Dt6c24CJJm21O_g_P-dXgLIq5PRMuorYH12kg.JPEG.onlyone1707%2F%25B3%25D7%25C1%25EE%25B0%25ED_%25B1%25DB%25B8%25AE%25C5%25CD_%25BD%25C3%25B8%25AE%25C1%25EE06.jpg&type=a340\n",
      "==================================================\n",
      "https://search.pstatic.net/common/?src=http%3A%2F%2Fblogfiles.naver.net%2FMjAyMTA0MDhfODYg%2FMDAxNjE3ODY1MTY2NzYy.iPvVAkmRIgSxcAxnMbPlczxTrUAkS_XNMr7zEabuzQkg.OENwQfJ3TJzPol4RISR8I8nfscKEBN1P8gIZx8neorMg.JPEG.cntjr5708%2F%25BC%25F6%25C1%25A4%25B5%25CA_sega-nezuko-kamado-sibling-bonds-demon-slayer-kimetsu-no-yaiba-spm-prize.jpg&type=a340\n",
      "==================================================\n",
      "data:image/gif;base64,R0lGODlhAQABAIAAAAAAAP///yH5BAEAAAAALAAAAAABAAEAAAIBRAA7\n",
      "==================================================\n",
      "https://search.pstatic.net/common/?src=http%3A%2F%2Fblogfiles.naver.net%2FMjAyMTAzMTBfNjcg%2FMDAxNjE1MzY2NzM1NzEx.FBWO71CKkLWk8mNEWWt-OIlEDeXJePTK8elb3AJQFHgg.EytXS_CNzLVfVSiiG8RYI9LhByIfjtT5EHBDC8K1Hhkg.JPEG.jjmp3473%2F20210304%25A3%25DF143145.jpg&type=a340\n",
      "==================================================\n",
      "https://search.pstatic.net/common/?src=http%3A%2F%2Fblogfiles.naver.net%2FMjAyMDA4MTRfODQg%2FMDAxNTk3NDA0Mjg1NTYz.06kCKBj9GLWczbEbdMqeMvJCocOy3oSy7UhYihxi9e0g.dF-FcBb8-t4c--o7I9M6yqc6FWfrfUh9haP4xYbaTBcg.JPEG.youkid%2F16.jpg&type=a340\n",
      "==================================================\n",
      "Message: no such element: Unable to locate element: {\"method\":\"xpath\",\"selector\":\"//*[@id=\"main_pack\"]/section/div/div[1]/div[1]/div[11]/div/div[1]/a/img\"}\n",
      "  (Session info: chrome=90.0.4430.212)\n",
      "\n",
      "data:image/gif;base64,R0lGODlhAQABAIAAAAAAAP///yH5BAEAAAAALAAAAAABAAEAAAIBRAA7\n",
      "==================================================\n",
      "https://search.pstatic.net/common/?src=http%3A%2F%2Fblogfiles.naver.net%2FMjAyMTA1MDlfNzMg%2FMDAxNjIwNTUxMzI2MjA3.EkUQMVkpIsj-nqAPhGfTGvAygbo1qcX-ZemDGYvoMWMg.VkmHdxvmluLFdQiFgFEcsN_gf-vrbAd2S-4Pop9yeUYg.JPEG.twinkle85419%2FIMG_0186.jpg&type=a340\n",
      "==================================================\n",
      "https://search.pstatic.net/common/?src=http%3A%2F%2Fblogfiles.naver.net%2FMjAyMTA1MTdfMjgg%2FMDAxNjIxMjU2MDc1MjEy.tmyGKIch0lxwhSVvuEeoQvEI4ZIfCZsJ2YfaP4bPO0Ig.1grdyU6-npwLOLqH4D5QVDunDQEhblPPfXp75tEfpHAg.JPEG.djamva%2FO1CN01G3kV4u1FMDcfJRi9n_821020472.jpg&type=a340\n",
      "==================================================\n",
      "data:image/gif;base64,R0lGODlhAQABAIAAAAAAAP///yH5BAEAAAAALAAAAAABAAEAAAIBRAA7\n",
      "==================================================\n",
      "data:image/gif;base64,R0lGODlhAQABAIAAAAAAAP///yH5BAEAAAAALAAAAAABAAEAAAIBRAA7\n",
      "==================================================\n",
      "data:image/gif;base64,R0lGODlhAQABAIAAAAAAAP///yH5BAEAAAAALAAAAAABAAEAAAIBRAA7\n",
      "==================================================\n",
      "data:image/gif;base64,R0lGODlhAQABAIAAAAAAAP///yH5BAEAAAAALAAAAAABAAEAAAIBRAA7\n",
      "==================================================\n",
      "data:image/gif;base64,R0lGODlhAQABAIAAAAAAAP///yH5BAEAAAAALAAAAAABAAEAAAIBRAA7\n",
      "==================================================\n"
     ]
    }
   ],
   "source": [
    "from selenium import webdriver\n",
    "import bs4\n",
    "import time\n",
    "import urllib.request as REQ\n",
    "from selenium.webdriver.common.keys import Keys\n",
    "\n",
    "url=\"https://www.naver.com\"\n",
    "\n",
    "options = webdriver.ChromeOptions()\n",
    "options = webdriver.ChromeOptions()\n",
    "options.add_argument(\"disable-gpu\")   \n",
    "options.add_argument(\"lang=ko_KR\")    \n",
    "options.add_argument('user-agent=Mozilla/5.0 (Macintosh; Intel Mac OS X 10_12_6) AppleWebKit/537.36 (KHTML, like Gecko) Chrome/61.0.3163.100 Safari/537.36')  # user-agent \n",
    "driver = webdriver.Chrome(executable_path=\"driver/chromedriver.exe\",options=options)\n",
    "driver.get(url)\n",
    "time.sleep(1)\n",
    "\n",
    "driver.find_element_by_xpath('//*[@id=\"query\"]').send_keys('네즈코')\n",
    "driver.find_element_by_xpath('//*[@id=\"query\"]').send_keys(Keys.ENTER)\n",
    "driver.find_element_by_xpath('//*[@id=\"lnb\"]/div[1]/div/ul/li[2]/a').click()\n",
    "\n",
    "for idx in range(1, 20, 1):\n",
    "    time.sleep(1)\n",
    "    try:\n",
    "        img = driver.find_element_by_xpath(f'//*[@id=\"main_pack\"]/section/div/div[1]/div[1]/div[{idx}]/div/div[1]/a/img')\n",
    "        REQ.urlretrieve( img.get_attribute(\"src\"), f'image/naver/nesko_{idx}.jpg' )\n",
    "        print(img.get_attribute(\"src\"))\n",
    "        print(\"=\"*50)\n",
    "    except Exception as e:\n",
    "        print(e)\n",
    "\n",
    "driver.close()\n",
    "    \n",
    "    \n"
   ]
  }
 ],
 "metadata": {
  "kernelspec": {
   "display_name": "Python 3",
   "language": "python",
   "name": "python3"
  },
  "language_info": {
   "codemirror_mode": {
    "name": "ipython",
    "version": 3
   },
   "file_extension": ".py",
   "mimetype": "text/x-python",
   "name": "python",
   "nbconvert_exporter": "python",
   "pygments_lexer": "ipython3",
   "version": "3.8.8"
  }
 },
 "nbformat": 4,
 "nbformat_minor": 5
}
