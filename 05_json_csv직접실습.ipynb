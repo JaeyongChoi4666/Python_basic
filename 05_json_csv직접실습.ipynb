{
 "cells": [
  {
   "cell_type": "code",
   "execution_count": 13,
   "id": "9af12713-8655-463c-8865-ddf01b27a360",
   "metadata": {},
   "outputs": [
    {
     "name": "stdout",
     "output_type": "stream",
     "text": [
      "<class 'dict'>\n",
      "{'id': 'a', 'name': '가나다1', 'age': 61, 'height': 165.4, 'weight': 60.2} <class 'dict'>\n",
      "{'id': 'b', 'name': '가나다2', 'age': 32, 'height': 185.4, 'weight': 80.3} <class 'dict'>\n",
      "{'id': 'c', 'name': '가나다3', 'age': 13, 'height': 145.8, 'weight': 60.6} <class 'dict'>\n",
      "{'id': 'd', 'name': '가나다4', 'age': 44, 'height': 165.7, 'weight': 44.5} <class 'dict'>\n",
      "{'id': 'e', 'name': '가나다5', 'age': 85, 'height': 165.2, 'weight': 42.3} <class 'dict'>\n",
      "[['a', '가나다1', 61, 165.4, 60.2], ['b', '가나다2', 32, 185.4, 80.3], ['c', '가나다3', 13, 145.8, 60.6], ['d', '가나다4', 44, 165.7, 44.5], ['e', '가나다5', 85, 165.2, 42.3]]\n",
      "<class 'list'>\n"
     ]
    }
   ],
   "source": [
    "import requests\n",
    "import json\n",
    "\n",
    "url=\"http://ihongss.com/json/exam7.json\"\n",
    "data = json.loads(requests.get(url).text)\n",
    "data1 = []\n",
    "for i in data['data']:\n",
    "    print(i,type(i))\n",
    "    data1.append([i['id'],i['name'],int(i['age']),float(i['height']),float(i['weight'])])\n",
    "print(data1)\n",
    "print(type(data1))"
   ]
  },
  {
   "cell_type": "code",
   "execution_count": 8,
   "id": "9037f47e-2954-468a-aa7f-fa1a7f71bc1e",
   "metadata": {},
   "outputs": [],
   "source": [
    "import csv\n",
    "file = open('csv/20210518_ex01.csv', 'w', encoding='utf-8')\n",
    "wr = csv.writer(file)\n",
    "\n",
    "wr.writerow(['id','name','age','height','weight'])\n",
    "for i in data2:\n",
    "    wr.writerow(i)\n",
    "    \n",
    "file.close() "
   ]
  }
 ],
 "metadata": {
  "kernelspec": {
   "display_name": "Python 3",
   "language": "python",
   "name": "python3"
  },
  "language_info": {
   "codemirror_mode": {
    "name": "ipython",
    "version": 3
   },
   "file_extension": ".py",
   "mimetype": "text/x-python",
   "name": "python",
   "nbconvert_exporter": "python",
   "pygments_lexer": "ipython3",
   "version": "3.8.8"
  }
 },
 "nbformat": 4,
 "nbformat_minor": 5
}
