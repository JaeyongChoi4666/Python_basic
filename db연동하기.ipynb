{
 "cells": [
  {
   "cell_type": "code",
   "execution_count": 1,
   "id": "ce7f4ca0-29a3-41da-a564-8e8cecfc8333",
   "metadata": {},
   "outputs": [
    {
     "name": "stdout",
     "output_type": "stream",
     "text": [
      "Requirement already satisfied: cx_oracle in c:\\users\\admin\\anaconda3\\lib\\site-packages (8.1.0)\n"
     ]
    }
   ],
   "source": [
    "#1 오라클 연동 라이브러리 설치하기\n",
    "!pip install cx_oracle"
   ]
  },
  {
   "cell_type": "code",
   "execution_count": 3,
   "id": "abd3449b-75e6-4ee5-a8c6-04e8c2e243a1",
   "metadata": {},
   "outputs": [
    {
     "data": {
      "text/plain": [
       "'C:\\\\instantclient_19_10;C:\\\\Users\\\\ADMIN\\\\anaconda3;C:\\\\Users\\\\ADMIN\\\\anaconda3\\\\Library\\\\mingw-w64\\\\bin;C:\\\\Users\\\\ADMIN\\\\anaconda3\\\\Library\\\\usr\\\\bin;C:\\\\Users\\\\ADMIN\\\\anaconda3\\\\Library\\\\bin;C:\\\\Users\\\\ADMIN\\\\anaconda3\\\\Scripts;C:\\\\Users\\\\ADMIN\\\\anaconda3\\\\bin;C:\\\\Users\\\\ADMIN\\\\anaconda3\\\\condabin;C:\\\\oraclexe\\\\app\\\\oracle\\\\product\\\\11.2.0\\\\server\\\\bin;C:\\\\Program Files\\\\Common Files\\\\Oracle\\\\Java\\\\javapath;C:\\\\Windows\\\\system32;C:\\\\Windows;C:\\\\Windows\\\\System32\\\\Wbem;C:\\\\Windows\\\\System32\\\\WindowsPowerShell\\\\v1.0;C:\\\\Windows\\\\System32\\\\OpenSSH;C:\\\\Program Files\\\\Java\\\\jdk-11.0.9\\\\bin;C:\\\\Program Files (x86)\\\\Brackets\\\\command;C:\\\\Program Files\\\\nodejs;C:\\\\Program Files\\\\ojdkbuild\\\\java-11-openjdk-11.0.10-1\\\\bin;C:\\\\Program Files\\\\Git\\\\cmd;C:\\\\Users\\\\ADMIN\\\\anaconda3;C:\\\\Users\\\\ADMIN\\\\anaconda3\\\\Library\\\\mingw-w64\\\\bin;C:\\\\Users\\\\ADMIN\\\\anaconda3\\\\Library\\\\usr\\\\bin;C:\\\\Users\\\\ADMIN\\\\anaconda3\\\\Library\\\\bin;C:\\\\Users\\\\ADMIN\\\\anaconda3\\\\Scripts;C:\\\\Program Files\\\\MySQL\\\\MySQL Shell 8.0\\\\bin;C:\\\\Users\\\\ADMIN\\\\AppData\\\\Local\\\\Microsoft\\\\WindowsApps;C:\\\\Program Files\\\\Bandizip;C:\\\\Users\\\\ADMIN\\\\AppData\\\\Roaming\\\\npm;C:\\\\Users\\\\ADMIN\\\\AppData\\\\Local\\\\Programs\\\\Microsoft VS Code\\\\bin;C:\\\\Users\\\\ADMIN\\\\AppData\\\\Local\\\\GitHubDesktop\\\\bin'"
      ]
     },
     "execution_count": 3,
     "metadata": {},
     "output_type": "execute_result"
    }
   ],
   "source": [
    "#2 환경변수에 PATH 추가하기\n",
    "import os\n",
    "#path = 'C:\\\\instantclient_19_10' #windows 방식\n",
    "#path = 'C:/instantclient_19_10'  #linux 방식\n",
    "path = r'C:\\instantclient_19_10' #raw\n",
    "\n",
    "os.environ[\"PATH\"] = path+\";\"+os.environ[\"PATH\"]\n",
    "os.environ[\"PATH\"]"
   ]
  },
  {
   "cell_type": "code",
   "execution_count": 8,
   "id": "57c81a2c-a9a9-4038-a507-2b0ac1b27ca4",
   "metadata": {},
   "outputs": [
    {
     "data": {
      "text/plain": [
       "<cx_Oracle.Connection to id125@1.234.5.158:11521/xe>"
      ]
     },
     "execution_count": 8,
     "metadata": {},
     "output_type": "execute_result"
    }
   ],
   "source": [
    "#3 라이비르러 추가한 후 ora로 변경\n",
    "import cx_Oracle as ora\n",
    "#아이디/암호@서버주소:포트번호/SID\n",
    "conn = ora.connect('id125/pw125@1.234.5.158:11521/xe')\n",
    "conn"
   ]
  },
  {
   "cell_type": "code",
   "execution_count": 13,
   "id": "36feb93c-6bf9-4df2-9c0e-044a8f5fec8d",
   "metadata": {},
   "outputs": [
    {
     "name": "stdout",
     "output_type": "stream",
     "text": [
      "다이노스 NC \t 창원 창원 NC파크\n",
      "베어스 \t 두산 \t 서울 서울 종합운동장\n",
      "WIZ \t KT \t 수원 수원 KT WIZ파크\n",
      "트윈스 \t LG \t 서울 서울 종합운동장\n",
      "히어로즈 키움 \t 서울 고척 스카이돔\n",
      "타이거즈 기아 \t 광주 광주-기아 챔피언스필드\n",
      "자이언츠 롯데 \t 부산 사직 야구장\n",
      "라이온즈 삼성 \t 대구 대구 삼성 라이온즈 파크\n",
      "랜더스 \t SSG \t 인천 문학 야구장\n",
      "이글스 \t 한화 \t 대전 청주종합운동장\n",
      "<class 'list'>\n"
     ]
    }
   ],
   "source": [
    "cursor = conn.cursor()\n",
    "cursor.execute(\"SELECT * FROM TEAM_INFO\")\n",
    "rows=cursor.fetchall();\n",
    "rows\n",
    "\n",
    "for i in rows:\n",
    "    if len(i[0])<4:\n",
    "        print(i[0],\"\\t\",i[1],\"\\t\",i[2],i[3])\n",
    "    else:\n",
    "        print(i[0],i[1],\"\\t\",i[2],i[3])\n",
    "print(type(rows))"
   ]
  },
  {
   "cell_type": "code",
   "execution_count": 11,
   "id": "5cba366a-72c3-4483-ae61-2ef691c295f6",
   "metadata": {},
   "outputs": [
    {
     "name": "stdout",
     "output_type": "stream",
     "text": [
      "{('다이노스', 'NC', '창원', '창원 NC파크'): 0, ('베어스', '두산', '서울', '서울 종합운동장'): 1, ('WIZ', 'KT', '수원', '수원 KT WIZ파크'): 2, ('트윈스', 'LG', '서울', '서울 종합운동장'): 3, ('히어로즈', '키움', '서울', '고척 스카이돔'): 4, ('타이거즈', '기아', '광주', '광주-기아 챔피언스필드'): 5, ('자이언츠', '롯데', '부산', '사직 야구장'): 6, ('라이온즈', '삼성', '대구', '대구 삼성 라이온즈 파크'): 7, ('랜더스', 'SSG', '인천', '문학 야구장'): 8, ('이글스', '한화', '대전', '청주종합운동장'): 9}\n"
     ]
    }
   ],
   "source": [
    "cursor = conn.cursor()\n",
    "cursor.execute(\"SELECT * FROM TEAM_INFO\")\n",
    "rows=cursor.fetchall();\n",
    "dictionary = {string : i for i,string in enumerate(rows)}\n",
    "print(dictionary)"
   ]
  },
  {
   "cell_type": "code",
   "execution_count": 23,
   "id": "b529f0e6-45b8-4e1d-98c2-8a497406716e",
   "metadata": {},
   "outputs": [],
   "source": [
    "# oracle에 자료입력\n",
    "cursor = conn.cursor()\n",
    "sql = \"\"\"INSERT INTO TEAM_INFO(TEAM_NAME,TEAM_SPONSER,TEAM_CITY,TEAM_PLAYGROUND) VALUES(:1, :2, :3, :4)\"\"\"\n",
    "\n",
    "arr=['워리어스','현대','제주','전쟁기념관']\n",
    "cursor.execute(sql,arr)\n",
    "conn.commit()\n",
    "\n",
    "cursor.execute(\"SELECT * FROM TEAM_INFO WHERE TEAM_NAME='워리어스')\n",
    "rows=cursor.fetchall();\n",
    "rows"
   ]
  },
  {
   "cell_type": "code",
   "execution_count": 24,
   "id": "3bd458f4-1b79-40d3-8ee1-c1ec05450466",
   "metadata": {},
   "outputs": [],
   "source": [
    "# row data 수정\n",
    "cursor = conn.cursor()\n",
    "sql = \"\"\"UPDATE TEAM_INFO SET TEAM_PLAYGROUND='벡스코' WHERE TEAM_NAME='워리어스'\"\"\"\n",
    "\n",
    "\n",
    "cursor.execute(sql)\n",
    "conn.commit()"
   ]
  },
  {
   "cell_type": "code",
   "execution_count": 6,
   "id": "77080174-f99f-457a-be7e-fd319e9160f5",
   "metadata": {},
   "outputs": [
    {
     "ename": "TypeError",
     "evalue": "'Database' object is not callable. If you meant to call the 'cursor' method on a 'MongoClient' object it is failing because no such method exists.",
     "output_type": "error",
     "traceback": [
      "\u001b[1;31m---------------------------------------------------------------------------\u001b[0m",
      "\u001b[1;31mTypeError\u001b[0m                                 Traceback (most recent call last)",
      "\u001b[1;32m<ipython-input-6-94e457ec56a5>\u001b[0m in \u001b[0;36m<module>\u001b[1;34m\u001b[0m\n\u001b[0;32m      1\u001b[0m \u001b[1;31m# row지우기\u001b[0m\u001b[1;33m\u001b[0m\u001b[1;33m\u001b[0m\u001b[1;33m\u001b[0m\u001b[0m\n\u001b[1;32m----> 2\u001b[1;33m \u001b[0mcursor\u001b[0m \u001b[1;33m=\u001b[0m \u001b[0mconn\u001b[0m\u001b[1;33m.\u001b[0m\u001b[0mcursor\u001b[0m\u001b[1;33m(\u001b[0m\u001b[1;33m)\u001b[0m\u001b[1;33m\u001b[0m\u001b[1;33m\u001b[0m\u001b[0m\n\u001b[0m\u001b[0;32m      3\u001b[0m \u001b[0msql\u001b[0m \u001b[1;33m=\u001b[0m \u001b[1;34m\"\"\"DELETE FROM TEAM_INFO WHERE TEAM_NAME='워리어스'\"\"\"\u001b[0m\u001b[1;33m\u001b[0m\u001b[1;33m\u001b[0m\u001b[0m\n\u001b[0;32m      4\u001b[0m \u001b[1;33m\u001b[0m\u001b[0m\n\u001b[0;32m      5\u001b[0m \u001b[0mcursor\u001b[0m\u001b[1;33m.\u001b[0m\u001b[0mexecute\u001b[0m\u001b[1;33m(\u001b[0m\u001b[0msql\u001b[0m\u001b[1;33m)\u001b[0m\u001b[1;33m\u001b[0m\u001b[1;33m\u001b[0m\u001b[0m\n",
      "\u001b[1;32m~\\anaconda3\\lib\\site-packages\\pymongo\\database.py\u001b[0m in \u001b[0;36m__call__\u001b[1;34m(self, *args, **kwargs)\u001b[0m\n\u001b[0;32m   1564\u001b[0m         \"\"\"This is only here so that some API misusages are easier to debug.\n\u001b[0;32m   1565\u001b[0m         \"\"\"\n\u001b[1;32m-> 1566\u001b[1;33m         raise TypeError(\"'Database' object is not callable. If you meant to \"\n\u001b[0m\u001b[0;32m   1567\u001b[0m                         \u001b[1;34m\"call the '%s' method on a '%s' object it is \"\u001b[0m\u001b[1;33m\u001b[0m\u001b[1;33m\u001b[0m\u001b[0m\n\u001b[0;32m   1568\u001b[0m                         \"failing because no such method exists.\" % (\n",
      "\u001b[1;31mTypeError\u001b[0m: 'Database' object is not callable. If you meant to call the 'cursor' method on a 'MongoClient' object it is failing because no such method exists."
     ]
    }
   ],
   "source": [
    "# row지우기\n",
    "cursor = conn.cursor()\n",
    "sql = \"\"\"DELETE FROM TEAM_INFO WHERE TEAM_NAME='워리어스'\"\"\"\n",
    "\n",
    "cursor.execute(sql)\n",
    "conn.commit()\n",
    "\n",
    "cursor.execute(\"SELECT * FROM TEAM_INFO\")\n",
    "rows=cursor.fetchall();\n",
    "rows\n",
    "print(type(rows))"
   ]
  },
  {
   "cell_type": "code",
   "execution_count": 1,
   "id": "b33ab5d1-26f2-44fa-bd92-fb59c106c0e2",
   "metadata": {},
   "outputs": [
    {
     "name": "stdout",
     "output_type": "stream",
     "text": [
      "Collecting pymongo\n",
      "  Downloading pymongo-3.11.4-cp38-cp38-win_amd64.whl (383 kB)\n",
      "Installing collected packages: pymongo\n",
      "Successfully installed pymongo-3.11.4\n"
     ]
    }
   ],
   "source": [
    "# mangoDB를 사용하기 위한 라이브러리\n",
    "! pip install pymongo"
   ]
  },
  {
   "cell_type": "code",
   "execution_count": 2,
   "id": "6decf8e5-bfa1-400b-b88c-0be8a26a64d3",
   "metadata": {},
   "outputs": [],
   "source": [
    "import pymongo\n",
    "\n",
    "username = \"id125\"\n",
    "password = \"pw125\"\n",
    "host = \"1.234.5.158\"\n",
    "port = 37017\n",
    "dbname = \"id125\"\n",
    "\n",
    "# conn = pymongo.MongoClient(f\"mongodb://{host}:{port}\") \n",
    "conn= pymongo.MongoClient(f'mongodb://{username}:{password}@{host}:{port}/{dbname}')\n",
    "\n",
    "db = conn.get_database(dbname) #db선택\n",
    "collection = db.get_collection(\"member\") #collection == table과 비슷함\n",
    "dic1 = {\"id\":\"pyid\", \"pw\":\"aaa\",\"name\":'abc', \"age\":33} #딕셔너리 생성\n",
    "\n",
    "# mongodb에 추가\n",
    "collection.insert_one(dic1)\n",
    "\n",
    "conn.close()    \n"
   ]
  },
  {
   "cell_type": "code",
   "execution_count": 5,
   "id": "dcf2bfad-b7a6-46cf-94f6-0b4a2a62df49",
   "metadata": {},
   "outputs": [],
   "source": [
    "dic1 = {\"id\":\"pyid2\", \"pw\":\"bbb\", \"age\":34, \"bloodType\":\"A\"}\n",
    "collection.insert_one(dic1)\n",
    "conn.close()    "
   ]
  }
 ],
 "metadata": {
  "kernelspec": {
   "display_name": "Python 3",
   "language": "python",
   "name": "python3"
  },
  "language_info": {
   "codemirror_mode": {
    "name": "ipython",
    "version": 3
   },
   "file_extension": ".py",
   "mimetype": "text/x-python",
   "name": "python",
   "nbconvert_exporter": "python",
   "pygments_lexer": "ipython3",
   "version": "3.8.8"
  }
 },
 "nbformat": 4,
 "nbformat_minor": 5
}
