{
 "cells": [
  {
   "cell_type": "code",
   "execution_count": 3,
   "id": "02c54617-19ae-4a52-afbe-9c0f44cc1d86",
   "metadata": {},
   "outputs": [
    {
     "name": "stdout",
     "output_type": "stream",
     "text": [
      "Requirement already satisfied: beautifulsoup4 in c:\\users\\admin\\anaconda3\\lib\\site-packages (4.9.3)\n",
      "Requirement already satisfied: soupsieve>1.2 in c:\\users\\admin\\anaconda3\\lib\\site-packages (from beautifulsoup4) (2.2.1)\n"
     ]
    }
   ],
   "source": [
    "!pip install beautifulsoup4"
   ]
  },
  {
   "cell_type": "code",
   "execution_count": 1,
   "id": "161af427-b96a-483f-b9cd-1cc4be6769e5",
   "metadata": {},
   "outputs": [
    {
     "data": {
      "text/plain": [
       "'<?xml version=\\'1.0\\' encoding=\\'utf-8\\'?>\\n<response>\\n  <items>\\n    <item id=\"1\">\\n      <name>one</name>\\n    </item>\\n    <item id=\"2\">\\n      <name>two</name>\\n    </item>\\n    <item id=\"3\">\\n      <name>three</name>\\n    </item>\\n  </items>\\n</response>\\n'"
      ]
     },
     "execution_count": 1,
     "metadata": {},
     "output_type": "execute_result"
    }
   ],
   "source": [
    "#json\n",
    "import requests\n",
    "\n",
    "url=\"http://ihongss.com/xml/exam1.xml\"\n",
    "response = requests.get(url)\n",
    "response.text"
   ]
  },
  {
   "cell_type": "code",
   "execution_count": 2,
   "id": "0148abd6-7ecb-49ab-bd5b-424567e7d9c8",
   "metadata": {},
   "outputs": [
    {
     "data": {
      "text/plain": [
       "b'<?xml version=\\'1.0\\' encoding=\\'utf-8\\'?>\\n<response>\\n  <items>\\n    <item id=\"1\">\\n      <name>one</name>\\n    </item>\\n    <item id=\"2\">\\n      <name>two</name>\\n    </item>\\n    <item id=\"3\">\\n      <name>three</name>\\n    </item>\\n  </items>\\n</response>\\n'"
      ]
     },
     "execution_count": 2,
     "metadata": {},
     "output_type": "execute_result"
    }
   ],
   "source": [
    "#xml\n",
    "import urllib.request\n",
    "\n",
    "url=\"http://ihongss.com/xml/exam1.xml\"\n",
    "response = urllib.request.urlopen(url)\n",
    "response.read()"
   ]
  },
  {
   "cell_type": "code",
   "execution_count": 69,
   "id": "b1e48aec-59ca-40fa-bb87-174b815c29f0",
   "metadata": {},
   "outputs": [
    {
     "name": "stdout",
     "output_type": "stream",
     "text": [
      "item 1 one\n",
      "------------------------------\n",
      "item 2 two\n",
      "------------------------------\n",
      "item 3 three\n",
      "------------------------------\n"
     ]
    }
   ],
   "source": [
    "import requests\n",
    "import bs4\n",
    "\n",
    "url=\"http://ihongss.com/xml/exam1.xml\"\n",
    "response = requests.get(url)\n",
    "\n",
    "#XML일 경우 lmxl-xml, HTML의 경우 html.parser\n",
    "soup = bs4.BeautifulSoup(response.text, 'lxml-xml') \n",
    "soup\n",
    "\n",
    "#soap.find_all() : 여러개 검색\n",
    "#soap.select('div.abc') : 여러개 검색\n",
    "\n",
    "#soap.find() : 가장 먼저 검색되는 1개\n",
    "#soap.select_one() : 가장 먼저 검색되는 1개\n",
    "\n",
    "for tmp in soup.find_all('item'):\n",
    "    print(tmp.name,tmp.attrs['id'],tmp.find('name').text)\n",
    "    print(\"-\" * 30)"
   ]
  },
  {
   "cell_type": "code",
   "execution_count": 8,
   "id": "1130140e-cd0f-4df8-8297-647654a36cbb",
   "metadata": {},
   "outputs": [
    {
     "name": "stdout",
     "output_type": "stream",
     "text": [
      "a 11 id_a addr1\n",
      "b 22 id_b addr2\n"
     ]
    }
   ],
   "source": [
    "import requests\n",
    "import bs4\n",
    "\n",
    "url=\"http://ihongss.com/resources/student.xml\"\n",
    "response = requests.get(url)\n",
    "\n",
    "#XML일 경우 lmxl-xml, HTML의 경우 html.parser\n",
    "soup = bs4.BeautifulSoup(response.text, 'lxml-xml') \n",
    "soup\n",
    "\n",
    "for tmp in soup.find_all('student'):\n",
    "    print(tmp.find('name').text, tmp.find('age').text, tmp.addr['id'], tmp.find('addr').text)"
   ]
  },
  {
   "cell_type": "code",
   "execution_count": 23,
   "id": "860c9a58-8eab-41db-8319-dd7030168728",
   "metadata": {},
   "outputs": [
    {
     "name": "stdout",
     "output_type": "stream",
     "text": [
      "a id_a\n",
      "b \n",
      "c \n",
      "------------------------------\n",
      "a1 \n",
      "b1 \n",
      "c1 \n",
      "------------------------------\n",
      "a2 \n",
      "b2 \n",
      "c2 \n",
      "------------------------------\n"
     ]
    }
   ],
   "source": [
    "import requests\n",
    "import bs4\n",
    "\n",
    "url=\"http://ihongss.com/resources/exam1.html\"\n",
    "response = requests.get(url)\n",
    "\n",
    "#XML일 경우 lmxl-xml, HTML의 경우 html.parser\n",
    "soup = bs4.BeautifulSoup(response.text, 'html.parser') \n",
    "soup\n",
    "\n",
    "a=soup.find_all('div')\n",
    "# a=soup.select(\"div\")\n",
    "a\n",
    "\n",
    "#div 태그 중에 class가 first만 출력\n",
    "b=soup.find_all('div',{\"class\":\"first\"})\n",
    "# b=soup.select(\"div.first\")\n",
    "b\n",
    "\n",
    "for tmp in a:\n",
    "    for tmp1 in tmp.find_all('p'):\n",
    "        # 딕셔너리에서 값 가져올 때 tmp1.attrs['id'], tmp1.attrs.get('id', \"\")    \n",
    "        print(tmp1.text,tmp1.attrs.get(\"id\",\"\"))\n",
    "    print(\"-\" * 30)"
   ]
  },
  {
   "cell_type": "code",
   "execution_count": 47,
   "id": "e40ca090-02bd-419b-8b83-bd1b0a98be95",
   "metadata": {},
   "outputs": [
    {
     "name": "stdout",
     "output_type": "stream",
     "text": [
      "5월 둘째 주, 악성 메일 유입 전주 대비 2배 늘었다\n",
      "서울시, 가로등·신호등·CCTV 결합 ‘스마트폴’ 본격 확대\n",
      "ETRI, 테라헤르츠 이용한 차세대 보안검색 기술 개발 나선다\n",
      "[황민주 보안에세이] 시간의 숙성과 지능형 지속공격의 관계\n",
      "[보.알.남] 나쁜 인공지능 만들기, 데이터 포이즈닝\n",
      "------------------------------\n",
      "5월 둘째 주, 악성 메일 유입 전주 대비 2배 늘었다\n",
      "서울시, 가로등·신호등·CCTV 결합 ‘스마트폴’ 본격 확대\n",
      "ETRI, 테라헤르츠 이용한 차세대 보안검색 기술 개발 나선다\n",
      "[황민주 보안에세이] 시간의 숙성과 지능형 지속공격의 관계\n",
      "[보.알.남] 나쁜 인공지능 만들기, 데이터 포이즈닝\n"
     ]
    }
   ],
   "source": [
    "\n",
    "url=\"https://www.boannews.com/default.asp\"\n",
    "\n",
    "response = requests.get(url)\n",
    "soup = bs4.BeautifulSoup(response.text, 'html.parser') \n",
    "soup\n",
    "\n",
    "article = soup.find('ul',{\"class\":\"headline_small_img\"})\n",
    "articleList=article.find_all('li')\n",
    "articleList\n",
    "\n",
    "for tmp in articleList:\n",
    "    print(tmp.text)\n",
    "    \n",
    "print(\"-\" * 30)\n",
    "\n",
    "for tmp in soup.select(\"#headline0 > ul > li > p\"):\n",
    "    print(tmp.text)"
   ]
  }
 ],
 "metadata": {
  "kernelspec": {
   "display_name": "Python 3",
   "language": "python",
   "name": "python3"
  },
  "language_info": {
   "codemirror_mode": {
    "name": "ipython",
    "version": 3
   },
   "file_extension": ".py",
   "mimetype": "text/x-python",
   "name": "python",
   "nbconvert_exporter": "python",
   "pygments_lexer": "ipython3",
   "version": "3.8.8"
  }
 },
 "nbformat": 4,
 "nbformat_minor": 5
}
