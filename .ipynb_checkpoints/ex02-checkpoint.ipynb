{
 "cells": [
  {
   "cell_type": "code",
   "execution_count": 10,
   "id": "3f27c6f7-f8ae-4e99-a062-599d58d3c6a1",
   "metadata": {},
   "outputs": [
    {
     "name": "stdin",
     "output_type": "stream",
     "text": [
      "숫자 입력? 3\n"
     ]
    },
    {
     "name": "stdout",
     "output_type": "stream",
     "text": [
      "5보다 작습니다\n",
      "if문과 관계있음\n",
      "if문과 관계없음\n"
     ]
    }
   ],
   "source": [
    "# 조건문\n",
    "a=float(input('숫자 입력?'))\n",
    "\n",
    "if a > 5:\n",
    "    print('5보다 큽니다')\n",
    "else:\n",
    "    print('5보다 작습니다')\n",
    "    print('if문과 관계있음')\n",
    "print('if문과 관계없음')"
   ]
  },
  {
   "cell_type": "code",
   "execution_count": 12,
   "id": "b85ac79d-f571-4a3f-bef8-79afe2603c4a",
   "metadata": {},
   "outputs": [
    {
     "name": "stdin",
     "output_type": "stream",
     "text": [
      "숫자 입력? 55\n"
     ]
    },
    {
     "name": "stdout",
     "output_type": "stream",
     "text": [
      "F\n"
     ]
    }
   ],
   "source": [
    "a=int(input('숫자 입력?'))\n",
    "\n",
    "if a>90:\n",
    "    print('A')\n",
    "elif a>80:\n",
    "    print('B')\n",
    "elif a>70:\n",
    "    print('c')\n",
    "elif a>60:\n",
    "    print('D')\n",
    "else:\n",
    "    print('F')"
   ]
  },
  {
   "cell_type": "code",
   "execution_count": 13,
   "id": "8baa9515-3b38-4f5a-a145-c59a7cb5c967",
   "metadata": {},
   "outputs": [
    {
     "name": "stdin",
     "output_type": "stream",
     "text": [
      "숫자 입력? 6\n"
     ]
    },
    {
     "name": "stdout",
     "output_type": "stream",
     "text": [
      "기타 숫자\n"
     ]
    }
   ],
   "source": [
    "# and or not\n",
    "a=int(input('숫자 입력?'))\n",
    "if a%5==0 or a%7==0:\n",
    "    print('5의 배수 혹은 7의 배수')\n",
    "else:\n",
    "    print('기타 숫자')"
   ]
  },
  {
   "cell_type": "code",
   "execution_count": null,
   "id": "239a5184-e164-4e9c-a76f-5e4eb8df32c3",
   "metadata": {},
   "outputs": [],
   "source": [
    "# and or not\n",
    "a=int(input('숫자 입력?'))\n",
    "if not a>3:\n",
    "    print('a <= 3')\n",
    "else:\n",
    "    print('a > 3')"
   ]
  },
  {
   "cell_type": "code",
   "execution_count": 14,
   "id": "4117ced3-56cb-45ca-beaf-526e79276c88",
   "metadata": {},
   "outputs": [
    {
     "name": "stdin",
     "output_type": "stream",
     "text": [
      "첫번째 숫자 입력? 3\n",
      "두번째숫자 입력? 5\n",
      "세번째 숫자 입력? 2\n"
     ]
    },
    {
     "name": "stdout",
     "output_type": "stream",
     "text": [
      "if 사용 : 5\n",
      "배열 사용 : 5\n"
     ]
    }
   ],
   "source": [
    "# 문제 : 3개의 정수를 입력받아서 가장 큰 숫자를 구하시오.\n",
    "#       ex) 3 5 2  => 5\n",
    "#       ex) 5 9 10 => 10\n",
    "\n",
    "a1=int(input('첫번째 숫자 입력?'))\n",
    "a2=int(input('두번째숫자 입력?'))\n",
    "a3=int(input('세번째 숫자 입력?'))\n",
    "\n",
    "data=[a1,a2,a3]\n",
    "\n",
    "if a1>a2:\n",
    "    MAX=a1\n",
    "    if a3>a1:\n",
    "        MAX=a3\n",
    "else:\n",
    "    MAX=a2\n",
    "    if a3>a2:\n",
    "        MAX=a3\n",
    "\n",
    "print(f'if 사용 : {MAX}')\n",
    "print(f'배열 사용 : {max(data)}')"
   ]
  },
  {
   "cell_type": "code",
   "execution_count": 6,
   "id": "fe40fadf-c6a5-4a78-a380-14b7996af8c5",
   "metadata": {},
   "outputs": [
    {
     "name": "stdin",
     "output_type": "stream",
     "text": [
      "숫자 입력? 1\n"
     ]
    },
    {
     "name": "stdout",
     "output_type": "stream",
     "text": [
      "배수 아님\n"
     ]
    }
   ],
   "source": [
    "# 문제 : 3의 배수 5의 배수 인지 출력하시오.\n",
    "#       ex) 15  => 3 5\n",
    "#       ex)  9  => 3\n",
    "#       ex) 10  => 5\n",
    "#       ex)  7  => 배수 아님\n",
    "\n",
    "a=int(input('숫자 입력?'))\n",
    "\n",
    "if a%3==0:\n",
    "    if a%5==0:\n",
    "        print('3의 배수이자 5의 배수')\n",
    "    else:\n",
    "        print('3의 배수')\n",
    "else:\n",
    "    if a%5==0:\n",
    "        print('5의 배수')\n",
    "    else:\n",
    "        print('배수 아님')"
   ]
  },
  {
   "cell_type": "code",
   "execution_count": 11,
   "id": "3683e171-3315-40a2-9f6c-fa6375210ba1",
   "metadata": {},
   "outputs": [
    {
     "name": "stdin",
     "output_type": "stream",
     "text": [
      "첫번째 숫자 입력? 3\n",
      "두번째숫자 입력? 3\n",
      "세번째 숫자 입력? 1\n"
     ]
    },
    {
     "name": "stdout",
     "output_type": "stream",
     "text": [
      "같은 숫자 존재\n"
     ]
    }
   ],
   "source": [
    "# 문제 : 3개의 숫자를 입력 받아서 중간 숫자를 구하시오\n",
    "#       ex) 3 4 5 => 4\n",
    "#       ex) 3 3 3 => 같은 숫자 존재\n",
    "#       ex) 5 5 6 => 같은 숫자 존재\n",
    "#       ex) 6 1 2 => 2    \n",
    "\n",
    "a1=int(input('첫번째 숫자 입력?'))\n",
    "a2=int(input('두번째숫자 입력?'))\n",
    "a3=int(input('세번째 숫자 입력?'))\n",
    "\n",
    "if a1==a2 or a2==a3 or a3==a1:\n",
    "    print('같은 숫자 존재')\n",
    "else:\n",
    "    if a1>a2>a3 or a1<a2<a3:\n",
    "        print(a2)\n",
    "    elif a1>a3>a2 or a1<a3<a2:\n",
    "        print(a3)\n",
    "    elif a2>a1>a3 or a2<a1<a3:\n",
    "        print(a1)"
   ]
  }
 ],
 "metadata": {
  "kernelspec": {
   "display_name": "Python 3",
   "language": "python",
   "name": "python3"
  },
  "language_info": {
   "codemirror_mode": {
    "name": "ipython",
    "version": 3
   },
   "file_extension": ".py",
   "mimetype": "text/x-python",
   "name": "python",
   "nbconvert_exporter": "python",
   "pygments_lexer": "ipython3",
   "version": "3.8.8"
  }
 },
 "nbformat": 4,
 "nbformat_minor": 5
}
