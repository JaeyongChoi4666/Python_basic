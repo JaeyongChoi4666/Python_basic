{
 "cells": [
  {
   "cell_type": "code",
   "execution_count": 10,
   "id": "3f27c6f7-f8ae-4e99-a062-599d58d3c6a1",
   "metadata": {},
   "outputs": [
    {
     "name": "stdin",
     "output_type": "stream",
     "text": [
      "숫자 입력? 3\n"
     ]
    },
    {
     "name": "stdout",
     "output_type": "stream",
     "text": [
      "5보다 작습니다\n",
      "if문과 관계있음\n",
      "if문과 관계없음\n"
     ]
    }
   ],
   "source": [
    "# 조건문\n",
    "a=float(input('숫자 입력?'))\n",
    "\n",
    "if a > 5:\n",
    "    print('5보다 큽니다')\n",
    "else:\n",
    "    print('5보다 작습니다')\n",
    "    print('if문과 관계있음')\n",
    "print('if문과 관계없음')"
   ]
  },
  {
   "cell_type": "code",
   "execution_count": 12,
   "id": "b85ac79d-f571-4a3f-bef8-79afe2603c4a",
   "metadata": {},
   "outputs": [
    {
     "name": "stdin",
     "output_type": "stream",
     "text": [
      "숫자 입력? 55\n"
     ]
    },
    {
     "name": "stdout",
     "output_type": "stream",
     "text": [
      "F\n"
     ]
    }
   ],
   "source": [
    "a=int(input('숫자 입력?'))\n",
    "\n",
    "if a>90:\n",
    "    print('A')\n",
    "elif a>80:\n",
    "    print('B')\n",
    "elif a>70:\n",
    "    print('c')\n",
    "elif a>60:\n",
    "    print('D')\n",
    "else:\n",
    "    print('F')"
   ]
  },
  {
   "cell_type": "code",
   "execution_count": 13,
   "id": "8baa9515-3b38-4f5a-a145-c59a7cb5c967",
   "metadata": {},
   "outputs": [
    {
     "name": "stdin",
     "output_type": "stream",
     "text": [
      "숫자 입력? 6\n"
     ]
    },
    {
     "name": "stdout",
     "output_type": "stream",
     "text": [
      "기타 숫자\n"
     ]
    }
   ],
   "source": [
    "# and or not\n",
    "a=int(input('숫자 입력?'))\n",
    "if a%5==0 or a%7==0:\n",
    "    print('5의 배수 혹은 7의 배수')\n",
    "else:\n",
    "    print('기타 숫자')"
   ]
  },
  {
   "cell_type": "code",
   "execution_count": null,
   "id": "239a5184-e164-4e9c-a76f-5e4eb8df32c3",
   "metadata": {},
   "outputs": [],
   "source": [
    "# and or not\n",
    "a=int(input('숫자 입력?'))\n",
    "if not a>3:\n",
    "    print('a <= 3')\n",
    "else:\n",
    "    print('a > 3')"
   ]
  },
  {
   "cell_type": "code",
   "execution_count": 14,
   "id": "4117ced3-56cb-45ca-beaf-526e79276c88",
   "metadata": {},
   "outputs": [
    {
     "name": "stdin",
     "output_type": "stream",
     "text": [
      "첫번째 숫자 입력? 3\n",
      "두번째숫자 입력? 5\n",
      "세번째 숫자 입력? 2\n"
     ]
    },
    {
     "name": "stdout",
     "output_type": "stream",
     "text": [
      "if 사용 : 5\n",
      "배열 사용 : 5\n"
     ]
    }
   ],
   "source": [
    "# 문제 : 3개의 정수를 입력받아서 가장 큰 숫자를 구하시오.\n",
    "#       ex) 3 5 2  => 5\n",
    "#       ex) 5 9 10 => 10\n",
    "\n",
    "a1=int(input('첫번째 숫자 입력?'))\n",
    "a2=int(input('두번째숫자 입력?'))\n",
    "a3=int(input('세번째 숫자 입력?'))\n",
    "\n",
    "data=[a1,a2,a3]\n",
    "\n",
    "if a1>a2:\n",
    "    MAX=a1\n",
    "    if a3>a1:\n",
    "        MAX=a3\n",
    "else:\n",
    "    MAX=a2\n",
    "    if a3>a2:\n",
    "        MAX=a3\n",
    "\n",
    "print(f'if 사용 : {MAX}')\n",
    "print(f'배열 사용 : {max(data)}')"
   ]
  },
  {
   "cell_type": "code",
   "execution_count": 6,
   "id": "fe40fadf-c6a5-4a78-a380-14b7996af8c5",
   "metadata": {},
   "outputs": [
    {
     "name": "stdin",
     "output_type": "stream",
     "text": [
      "숫자 입력? 1\n"
     ]
    },
    {
     "name": "stdout",
     "output_type": "stream",
     "text": [
      "배수 아님\n"
     ]
    }
   ],
   "source": [
    "# 문제 : 3의 배수 5의 배수 인지 출력하시오.\n",
    "#       ex) 15  => 3 5\n",
    "#       ex)  9  => 3\n",
    "#       ex) 10  => 5\n",
    "#       ex)  7  => 배수 아님\n",
    "\n",
    "a=int(input('숫자 입력?'))\n",
    "\n",
    "if a%3==0:\n",
    "    if a%5==0:\n",
    "        print('3의 배수이자 5의 배수')\n",
    "    else:\n",
    "        print('3의 배수')\n",
    "else:\n",
    "    if a%5==0:\n",
    "        print('5의 배수')\n",
    "    else:\n",
    "        print('배수 아님')"
   ]
  },
  {
   "cell_type": "code",
   "execution_count": 15,
   "id": "3683e171-3315-40a2-9f6c-fa6375210ba1",
   "metadata": {},
   "outputs": [
    {
     "name": "stdin",
     "output_type": "stream",
     "text": [
      "첫번째 숫자 입력? 1\n",
      "두번째숫자 입력? 2\n",
      "세번째 숫자 입력? 3\n"
     ]
    },
    {
     "name": "stdout",
     "output_type": "stream",
     "text": [
      "2\n"
     ]
    }
   ],
   "source": [
    "# 문제 : 3개의 숫자를 입력 받아서 중간 숫자를 구하시오\n",
    "#       ex) 3 4 5 => 4\n",
    "#       ex) 3 3 3 => 같은 숫자 존재\n",
    "#       ex) 5 5 6 => 같은 숫자 존재\n",
    "#       ex) 6 1 2 => 2    \n",
    "\n",
    "a1=int(input('첫번째 숫자 입력?'))\n",
    "a2=int(input('두번째숫자 입력?'))\n",
    "a3=int(input('세번째 숫자 입력?'))\n",
    "\n",
    "if a1==a2 or a2==a3 or a3==a1:\n",
    "    print('같은 숫자 존재')\n",
    "else:\n",
    "    if a1>a2>a3 or a1<a2<a3:\n",
    "        print(a2)\n",
    "    elif a1>a3>a2 or a1<a3<a2:\n",
    "        print(a3)\n",
    "    elif a2>a1>a3 or a2<a1<a3:\n",
    "        print(a1)"
   ]
  },
  {
   "cell_type": "code",
   "execution_count": 17,
   "id": "273108c2-5697-47f1-9735-89ac23912f98",
   "metadata": {},
   "outputs": [
    {
     "name": "stdout",
     "output_type": "stream",
     "text": [
      "0\n",
      "1\n",
      "2\n",
      "3\n",
      "4\n",
      "5\n",
      "6\n",
      "7\n",
      "8\n",
      "9\n",
      "--------------------\n",
      "1\n",
      "2\n",
      "3\n",
      "4\n",
      "5\n",
      "6\n",
      "7\n",
      "8\n",
      "9\n"
     ]
    }
   ],
   "source": [
    "# 반복문\n",
    "# range(초기값, 조건, 증가값)\n",
    "for i in range(10):\n",
    "    print(i)\n",
    "print(\"-\"*20)  \n",
    "for i in range(1,10,1):\n",
    "    print(i)"
   ]
  },
  {
   "cell_type": "code",
   "execution_count": 22,
   "id": "2b6af4d4-0635-42ae-bb05-9fd262bcf43b",
   "metadata": {},
   "outputs": [
    {
     "name": "stdin",
     "output_type": "stream",
     "text": [
      "숫자 입력? 13\n"
     ]
    },
    {
     "name": "stdout",
     "output_type": "stream",
     "text": [
      "3\n"
     ]
    }
   ],
   "source": [
    "# 숫자1개를 입력받아서 일의 자리가 3 과 7인 숫자의 개수를 구하시오.\n",
    "# ex) 13입력 => 1 2 3 4 5 6 7 8 9 10 11 12 13 => 3\n",
    "\n",
    "a=int(input('숫자 입력?'))\n",
    "cnt=0;\n",
    "for i in range(1,a+1,1):\n",
    "    if i%10==3 or i%10==7:\n",
    "        cnt=cnt+1\n",
    "\n",
    "print(cnt)"
   ]
  },
  {
   "cell_type": "code",
   "execution_count": 28,
   "id": "69ab38b2-a942-41e5-bb49-429a506f5b21",
   "metadata": {},
   "outputs": [
    {
     "name": "stdout",
     "output_type": "stream",
     "text": [
      "<class 'list'>\n",
      "1\n",
      "4\n",
      "[1, 2, 3]\n",
      "[2, 3, 4, 5]\n"
     ]
    }
   ],
   "source": [
    "# 리스트\n",
    "a = [1,2,3,4,5]\n",
    "print(type(a))\n",
    "print(a[0])\n",
    "print(a[-2])\n",
    "print(a[0:3])\n",
    "print(a[1:])"
   ]
  },
  {
   "cell_type": "code",
   "execution_count": 31,
   "id": "b4faaf00-0d8d-4c37-b85d-a8df98c648bb",
   "metadata": {},
   "outputs": [
    {
     "name": "stdout",
     "output_type": "stream",
     "text": [
      "{'name': '토니스타크', 'age': '34', 'addr': '말리부'}\n",
      "<class 'dict'>\n",
      "토니스타크\n"
     ]
    }
   ],
   "source": [
    "# 딕셔너리 = JSON\n",
    "a= {\"name\":\"토니스타크\",\"age\":\"34\",\"addr\":\"말리부\"}\n",
    "\n",
    "print(a)\n",
    "print(type(a))\n",
    "print(a[\"name\"])"
   ]
  }
 ],
 "metadata": {
  "kernelspec": {
   "display_name": "Python 3",
   "language": "python",
   "name": "python3"
  },
  "language_info": {
   "codemirror_mode": {
    "name": "ipython",
    "version": 3
   },
   "file_extension": ".py",
   "mimetype": "text/x-python",
   "name": "python",
   "nbconvert_exporter": "python",
   "pygments_lexer": "ipython3",
   "version": "3.8.8"
  }
 },
 "nbformat": 4,
 "nbformat_minor": 5
}
