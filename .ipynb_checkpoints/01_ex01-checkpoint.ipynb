{
 "cells": [
  {
   "cell_type": "code",
   "execution_count": 1,
   "id": "5b7773b0-7773-4b58-9a4b-2fd3a4634139",
   "metadata": {},
   "outputs": [],
   "source": [
    "# 주석문 ctrl+?\n",
    "# 실행 ctrl+ENTER\n",
    "# 함수설명  shift+tab\n",
    "# 셀추가 shift +ENTER"
   ]
  },
  {
   "cell_type": "code",
   "execution_count": 1,
   "id": "f843e5e1-2b5b-491c-abe1-4f61d6c45acf",
   "metadata": {},
   "outputs": [
    {
     "name": "stdout",
     "output_type": "stream",
     "text": [
      "hello world\n",
      "hello world\n"
     ]
    }
   ],
   "source": [
    "print('hello world')\n",
    "print(\"hello world\")"
   ]
  },
  {
   "cell_type": "code",
   "execution_count": 6,
   "id": "442c4d9f-d5ac-4974-81f5-631eb967dfbd",
   "metadata": {},
   "outputs": [
    {
     "name": "stdout",
     "output_type": "stream",
     "text": [
      "9\n",
      "20\n",
      "1\n",
      "1.25\n",
      "1\n",
      "1\n",
      "125\n",
      "합은 9\n"
     ]
    }
   ],
   "source": [
    "a=5\n",
    "b=4\n",
    "print(a + b)  #더하기\n",
    "print(a * b)  #곱하기\n",
    "print(a - b)  #빼기\n",
    "print(a / b)  #나누기 소수점도 표시됨\n",
    "print(a % b)  #나머지\n",
    "print(a // b) #몫\n",
    "print(a ** 3)  #a^3\n",
    "\n",
    "print(f'합은 {a+b}')"
   ]
  },
  {
   "cell_type": "code",
   "execution_count": 15,
   "id": "9bf81e17-27ec-41f0-9b91-a47c3747afdb",
   "metadata": {},
   "outputs": [
    {
     "name": "stdin",
     "output_type": "stream",
     "text": [
      "숫자입력? 1\n",
      "숫자입력? 2\n"
     ]
    },
    {
     "name": "stdout",
     "output_type": "stream",
     "text": [
      "<class 'int'>\n",
      "합은 3\n"
     ]
    }
   ],
   "source": [
    "a=int(input('숫자입력?'))\n",
    "b=input('숫자입력?')\n",
    "\n",
    "b=int(b)\n",
    "print(type(a))\n",
    "print(f'합은 {a+b}')"
   ]
  },
  {
   "cell_type": "code",
   "execution_count": 10,
   "id": "e533c4aa-49b0-450f-86c7-c38327d3b48f",
   "metadata": {},
   "outputs": [],
   "source": [
    "#------------------------------\n",
    "# 문제 : 3개의 정수를 입력받아서 합과 평균을 구하시오.\n",
    "#        ex) 3 4 5  합은 12 평균은 3.0\n",
    "#\n",
    "# 문제 : 1개의 정수를 입력받아서 일의 자리의 숫자를 구하시오.\n",
    "#        ex) 1234  => 4\n",
    "#        ex) 2346  => 6 \n",
    "# \n",
    "# 문제 : 1000~9999사이의 숫자를 입력받아서 각 자리수의 합을 구하시오.\n",
    "#        ex) 1234  => 10\n",
    "#        ex) 2345  => 14"
   ]
  },
  {
   "cell_type": "code",
   "execution_count": 18,
   "id": "04162a57-63bf-4a95-a03d-67e5fa147005",
   "metadata": {},
   "outputs": [
    {
     "name": "stdin",
     "output_type": "stream",
     "text": [
      "첫번째 숫자 3\n",
      "두번째 숫자 2\n",
      "세번째 숫자 1\n"
     ]
    },
    {
     "name": "stdout",
     "output_type": "stream",
     "text": [
      "합은 6\n",
      "평균은 2.0\n"
     ]
    }
   ],
   "source": [
    "a=int(input('첫번째 숫자'))\n",
    "b=int(input('두번째 숫자'))\n",
    "c=int(input('세번째 숫자'))\n",
    "\n",
    "data=[a,b,c]\n",
    "\n",
    "print(f'합은 {sum(data)}')\n",
    "print(f'평균은 {sum(data)/3}')\n"
   ]
  },
  {
   "cell_type": "code",
   "execution_count": 9,
   "id": "fc2175a4-c25c-4f88-b985-d081a3c7aefc",
   "metadata": {},
   "outputs": [
    {
     "name": "stdin",
     "output_type": "stream",
     "text": [
      "첫번째 숫자 123578\n"
     ]
    },
    {
     "name": "stdout",
     "output_type": "stream",
     "text": [
      "일의 자리 숫자 = 8\n"
     ]
    }
   ],
   "source": [
    "a=int(input('첫번째 숫자'))\n",
    "\n",
    "print(f'일의 자리 숫자 = {a%10}')"
   ]
  },
  {
   "cell_type": "code",
   "execution_count": 16,
   "id": "4dc6f208-8e80-4c99-99c2-46ad02e701d6",
   "metadata": {},
   "outputs": [
    {
     "name": "stdin",
     "output_type": "stream",
     "text": [
      "첫번째 숫자 4879\n"
     ]
    },
    {
     "name": "stdout",
     "output_type": "stream",
     "text": [
      "a1 = 4\n",
      "a2 = 8\n",
      "a3 = 7\n",
      "a4 = 9\n",
      "4자리 합 = 28\n"
     ]
    }
   ],
   "source": [
    "#1000~9999사이의 숫자를 입력받아서 각 자리수의 합을 구하시오.\n",
    "a=int(input('첫번째 숫자'))\n",
    "a1=a//1000\n",
    "a2=(a%1000)//100\n",
    "a3=(a%100)//10\n",
    "a4=a%10\n",
    "\n",
    "print(f'a1 = {a1}')\n",
    "print(f'a2 = {a2}')\n",
    "print(f'a3 = {a3}')\n",
    "print(f'a4 = {a4}')\n",
    "print(f'4자리 합 = {a1+a2+a3+a4}')"
   ]
  }
 ],
 "metadata": {
  "kernelspec": {
   "display_name": "Python 3",
   "language": "python",
   "name": "python3"
  },
  "language_info": {
   "codemirror_mode": {
    "name": "ipython",
    "version": 3
   },
   "file_extension": ".py",
   "mimetype": "text/x-python",
   "name": "python",
   "nbconvert_exporter": "python",
   "pygments_lexer": "ipython3",
   "version": "3.8.8"
  }
 },
 "nbformat": 4,
 "nbformat_minor": 5
}
