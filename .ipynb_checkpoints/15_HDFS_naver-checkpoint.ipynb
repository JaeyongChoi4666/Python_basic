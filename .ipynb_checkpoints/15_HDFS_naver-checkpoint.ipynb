{
 "cells": [
  {
   "cell_type": "code",
   "execution_count": 18,
   "id": "9035f0b9-6113-4d96-8508-0e0eb9afafab",
   "metadata": {},
   "outputs": [
    {
     "name": "stdout",
     "output_type": "stream",
     "text": [
      "[Errno 2] No such file or directory: 'download/apple_1.jpg'\n",
      "[Errno 2] No such file or directory: 'download/apple_2.jpg'\n",
      "[Errno 2] No such file or directory: 'download/apple_3.jpg'\n",
      "[Errno 2] No such file or directory: 'download/apple_4.jpg'\n",
      "[Errno 2] No such file or directory: 'download/apple_5.jpg'\n"
     ]
    }
   ],
   "source": [
    "from selenium import webdriver\n",
    "import bs4\n",
    "import time\n",
    "import urllib.request as REQ\n",
    "from selenium.webdriver.common.keys import Keys\n",
    "\n",
    "url=\"https://www.naver.com\"\n",
    "\n",
    "options = webdriver.ChromeOptions()\n",
    "options = webdriver.ChromeOptions()\n",
    "options.add_argument(\"disable-gpu\")   \n",
    "options.add_argument(\"lang=ko_KR\")    \n",
    "options.add_argument('user-agent=Mozilla/5.0 (Macintosh; Intel Mac OS X 10_12_6) AppleWebKit/537.36 (KHTML, like Gecko) Chrome/61.0.3163.100 Safari/537.36')  # user-agent \n",
    "driver = webdriver.Chrome(executable_path=\"driver/chromedriver.exe\",options=options)\n",
    "driver.get(url)\n",
    "time.sleep(1)\n",
    "\n",
    "driver.find_element_by_xpath('//*[@id=\"query\"]').send_keys('사과')\n",
    "driver.find_element_by_xpath('//*[@id=\"query\"]').send_keys(Keys.ENTER)\n",
    "driver.find_element_by_xpath('//*[@id=\"lnb\"]/div[1]/div/ul/li[2]/a').click()\n",
    "\n",
    "for idx in range(1, 6, 1):\n",
    "    time.sleep(1)\n",
    "    try:\n",
    "        img = driver.find_element_by_xpath(f'//*[@id=\"main_pack\"]/section/div/div[1]/div[1]/div[{idx}]/div/div[1]/a/img')\n",
    "        REQ.urlretrieve( img.get_attribute(\"src\"), f'image/naver_apple/apple_{idx}.jpg' )\n",
    "        print(img.get_attribute(\"src\"))\n",
    "        print(\"=\"*50)\n",
    "    except Exception as e:\n",
    "        print(e)\n",
    "\n",
    "driver.close()\n",
    "    \n",
    "    \n"
   ]
  }
 ],
 "metadata": {
  "kernelspec": {
   "display_name": "Python 3",
   "language": "python",
   "name": "python3"
  },
  "language_info": {
   "codemirror_mode": {
    "name": "ipython",
    "version": 3
   },
   "file_extension": ".py",
   "mimetype": "text/x-python",
   "name": "python",
   "nbconvert_exporter": "python",
   "pygments_lexer": "ipython3",
   "version": "3.8.8"
  }
 },
 "nbformat": 4,
 "nbformat_minor": 5
}
