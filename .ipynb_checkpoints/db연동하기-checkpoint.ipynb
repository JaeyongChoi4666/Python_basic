{
 "cells": [
  {
   "cell_type": "code",
   "execution_count": 1,
   "id": "ce7f4ca0-29a3-41da-a564-8e8cecfc8333",
   "metadata": {},
   "outputs": [
    {
     "name": "stdout",
     "output_type": "stream",
     "text": [
      "Requirement already satisfied: cx_oracle in c:\\users\\admin\\anaconda3\\lib\\site-packages (8.1.0)\n"
     ]
    }
   ],
   "source": [
    "#1 오라클 연동 라이브러리 설치하기\n",
    "!pip install cx_oracle"
   ]
  },
  {
   "cell_type": "code",
   "execution_count": 3,
   "id": "abd3449b-75e6-4ee5-a8c6-04e8c2e243a1",
   "metadata": {},
   "outputs": [
    {
     "data": {
      "text/plain": [
       "'C:\\\\instantclient_19_10;C:\\\\Users\\\\ADMIN\\\\anaconda3;C:\\\\Users\\\\ADMIN\\\\anaconda3\\\\Library\\\\mingw-w64\\\\bin;C:\\\\Users\\\\ADMIN\\\\anaconda3\\\\Library\\\\usr\\\\bin;C:\\\\Users\\\\ADMIN\\\\anaconda3\\\\Library\\\\bin;C:\\\\Users\\\\ADMIN\\\\anaconda3\\\\Scripts;C:\\\\Users\\\\ADMIN\\\\anaconda3\\\\bin;C:\\\\Users\\\\ADMIN\\\\anaconda3\\\\condabin;C:\\\\oraclexe\\\\app\\\\oracle\\\\product\\\\11.2.0\\\\server\\\\bin;C:\\\\Program Files\\\\Common Files\\\\Oracle\\\\Java\\\\javapath;C:\\\\Windows\\\\system32;C:\\\\Windows;C:\\\\Windows\\\\System32\\\\Wbem;C:\\\\Windows\\\\System32\\\\WindowsPowerShell\\\\v1.0;C:\\\\Windows\\\\System32\\\\OpenSSH;C:\\\\Program Files\\\\Java\\\\jdk-11.0.9\\\\bin;C:\\\\Program Files (x86)\\\\Brackets\\\\command;C:\\\\Program Files\\\\nodejs;C:\\\\Program Files\\\\ojdkbuild\\\\java-11-openjdk-11.0.10-1\\\\bin;C:\\\\Program Files\\\\Git\\\\cmd;C:\\\\Users\\\\ADMIN\\\\anaconda3;C:\\\\Users\\\\ADMIN\\\\anaconda3\\\\Library\\\\mingw-w64\\\\bin;C:\\\\Users\\\\ADMIN\\\\anaconda3\\\\Library\\\\usr\\\\bin;C:\\\\Users\\\\ADMIN\\\\anaconda3\\\\Library\\\\bin;C:\\\\Users\\\\ADMIN\\\\anaconda3\\\\Scripts;C:\\\\Program Files\\\\MySQL\\\\MySQL Shell 8.0\\\\bin;C:\\\\Users\\\\ADMIN\\\\AppData\\\\Local\\\\Microsoft\\\\WindowsApps;C:\\\\Program Files\\\\Bandizip;C:\\\\Users\\\\ADMIN\\\\AppData\\\\Roaming\\\\npm;C:\\\\Users\\\\ADMIN\\\\AppData\\\\Local\\\\Programs\\\\Microsoft VS Code\\\\bin;C:\\\\Users\\\\ADMIN\\\\AppData\\\\Local\\\\GitHubDesktop\\\\bin'"
      ]
     },
     "execution_count": 3,
     "metadata": {},
     "output_type": "execute_result"
    }
   ],
   "source": [
    "#2 환경변수에 PATH 추가하기\n",
    "import os\n",
    "#path = 'C:\\\\instantclient_19_10' #windows 방식\n",
    "#path = 'C:/instantclient_19_10'  #linux 방식\n",
    "path = r'C:\\instantclient_19_10' #raw\n",
    "\n",
    "os.environ[\"PATH\"] = path+\";\"+os.environ[\"PATH\"]\n",
    "os.environ[\"PATH\"]"
   ]
  },
  {
   "cell_type": "code",
   "execution_count": 5,
   "id": "57c81a2c-a9a9-4038-a507-2b0ac1b27ca4",
   "metadata": {},
   "outputs": [
    {
     "data": {
      "text/plain": [
       "<cx_Oracle.Connection to id125@1.234.5.158:11521/xe>"
      ]
     },
     "execution_count": 5,
     "metadata": {},
     "output_type": "execute_result"
    }
   ],
   "source": [
    "#3 라이비르러 추가한 후 ora로 변경\n",
    "import cx_Oracle as ora\n",
    "#아이디/암호@서버주소:포트번호/SID\n",
    "conn = ora.connect('id125/pw125@1.234.5.158:11521/xe')\n",
    "conn"
   ]
  },
  {
   "cell_type": "code",
   "execution_count": 17,
   "id": "36feb93c-6bf9-4df2-9c0e-044a8f5fec8d",
   "metadata": {},
   "outputs": [
    {
     "data": {
      "text/plain": [
       "[('다이노스', 'NC', '창원', '창원 NC파크'),\n",
       " ('베어스', '두산', '서울', '서울 종합운동장'),\n",
       " ('WIZ', 'KT', '수원', '수원 KT WIZ파크'),\n",
       " ('트윈스', 'LG', '서울', '서울 종합운동장'),\n",
       " ('히어로즈', '키움', '서울', '고척 스카이돔'),\n",
       " ('타이거즈', '기아', '광주', '광주-기아 챔피언스필드'),\n",
       " ('자이언츠', '롯데', '부산', '사직 야구장'),\n",
       " ('라이온즈', '삼성', '대구', '대구 삼성 라이온즈 파크'),\n",
       " ('랜더스', 'SSG', '인천', '문학 야구장'),\n",
       " ('이글스', '한화', '대전', '청주종합운동장')]"
      ]
     },
     "execution_count": 17,
     "metadata": {},
     "output_type": "execute_result"
    }
   ],
   "source": [
    "cursor = conn.cursor()\n",
    "cursor.execute(\"SELECT * FROM TEAM_INFO\")\n",
    "rows=cursor.fetchall();\n",
    "rows"
   ]
  }
 ],
 "metadata": {
  "kernelspec": {
   "display_name": "Python 3",
   "language": "python",
   "name": "python3"
  },
  "language_info": {
   "codemirror_mode": {
    "name": "ipython",
    "version": 3
   },
   "file_extension": ".py",
   "mimetype": "text/x-python",
   "name": "python",
   "nbconvert_exporter": "python",
   "pygments_lexer": "ipython3",
   "version": "3.8.8"
  }
 },
 "nbformat": 4,
 "nbformat_minor": 5
}
