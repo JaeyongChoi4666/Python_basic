{
 "cells": [
  {
   "cell_type": "code",
   "execution_count": 34,
   "id": "dcded431-29f4-4e13-8172-d558eeccc843",
   "metadata": {},
   "outputs": [
    {
     "name": "stdout",
     "output_type": "stream",
     "text": [
      "한글만 있음\n",
      "(0, 5) 토니스타크\n"
     ]
    }
   ],
   "source": [
    "#정규식\n",
    "import re\n",
    "\n",
    "#한글인지 확인\n",
    "name=\"토니스타크\"\n",
    "\n",
    "# ^시작, $종료, +n개, {최소갯수, 최대갯수}\n",
    "# b = re.match('^[가-힣]+$',name)\n",
    "b = re.match('^[가-힣]{2,5}$',name)\n",
    "\n",
    "\n",
    "if b != None:\n",
    "    print(\"한글만 있음\")\n",
    "    print(b.span(),b.group())\n",
    "else:\n",
    "    print(\"한글이외 내용 있음\")"
   ]
  },
  {
   "cell_type": "code",
   "execution_count": 43,
   "id": "95e3e594-ba17-40e8-8bf2-2a8a78b41ea0",
   "metadata": {},
   "outputs": [
    {
     "name": "stdout",
     "output_type": "stream",
     "text": [
      "e-mail양식 일치\n",
      "(0, 16) a1234.@naver.com\n"
     ]
    }
   ],
   "source": [
    "import re\n",
    "#a1234@naver.com\n",
    "#e-mail타입인지 확인\n",
    "\n",
    "email=\"a1234.@naver.com\"\n",
    "\n",
    "b=re.match('^[a-zA-Z0-9.]+\\@[a-zA-Z0-9+-_.]+\\.[a-zA-Z0-9+-_.]+$',email)\n",
    "\n",
    "if b != None:\n",
    "    print(\"e-mail양식 일치\")\n",
    "    print(b.span(),b.group())\n",
    "else:\n",
    "    print(\"e-mail양식 불일치\")"
   ]
  },
  {
   "cell_type": "code",
   "execution_count": 44,
   "id": "b4069519-8b88-4af9-a3dd-37e7e10ab6cb",
   "metadata": {},
   "outputs": [
    {
     "name": "stdout",
     "output_type": "stream",
     "text": [
      "전화번호 양식 일치\n",
      "(0, 13) 010-1111-1111\n"
     ]
    }
   ],
   "source": [
    "import re\n",
    "#전화번호타입인지 확인\n",
    "\n",
    "tel=\"010-1111-1111\"\n",
    "\n",
    "#^[ ( 패턴A | 패턴B ) ]\n",
    "b=re.match('^[0-9]{3}\\-[0-9]{4}\\-[0-9]{4}',tel)\n",
    "\n",
    "if b != None:\n",
    "    print(\"전화번호 양식 일치\")\n",
    "    print(b.span(),b.group())\n",
    "else:\n",
    "    print(\"전화번호 양식 불일치\")"
   ]
  },
  {
   "cell_type": "code",
   "execution_count": 80,
   "id": "81dba41a-b54b-4b73-901d-26ec10acad1a",
   "metadata": {},
   "outputs": [
    {
     "name": "stdout",
     "output_type": "stream",
     "text": [
      "{'id': 'a', 'name': '가나다', 'email': '@naver.com', 'date': '2019-01-10', 'time': '14:50:59', 'birth': ''}\n",
      "{'id': 'b', 'name': '홍길동', 'email': 'bcd@naver.com', 'date': '01-10', 'time': '06:50', 'birth': '09/10/1994'}\n",
      "{'id': 'c', 'name': '나다라', 'email': 'def@daum.net', 'date': '2019-01', 'time': '146:50:59', 'birth': '09/10/1996'}\n",
      "{'id': 'd', 'name': '바', 'email': 'abc@naver.com', 'date': '2019-05-10', 'time': '04:50:59', 'birth': '11/10/1998'}\n",
      "{'id': 'e', 'name': '마바사', 'email': 'bbb@naver.com', 'date': '2019-01-100', 'time': '14:50:59', 'birth': '09/10/2019'}\n",
      "{'id': 'f', 'name': '홍갈똥', 'email': 'abc@google.com', 'date': '2019-01-10', 'time': '14:50:59', 'birth': '09/10/1998'}\n",
      "{'id': 'g', 'name': '마지막', 'email': 'bcd@naver.com', 'date': '01-10', 'time': '14:50', 'birth': '09/10/1994'}\n",
      "{'id': 'h', 'name': '시', 'email': 'def@daum.net', 'date': '2019-01-13', 'time': '14:50:59', 'birth': '10/10/1996'}\n",
      "{'id': 'i', 'name': '가나라', 'email': 'abc_123@naver', 'date': '2019-01-10', 'time': '14-50:59', 'birth': '09/12/2004'}\n",
      "{'id': 'h', 'name': '마바사', 'email': 'ccccc@naver.com', 'date': '2019-01-10', 'time': '14:78:59', 'birth': '09/13/2019'}\n",
      "==================================================\n",
      "id\t name\t email\t date\t time\t birth\t 적합여부\n",
      "a\t O\t X\t O\t O\t X\t O\t\n",
      "b\t O\t O\t X\t X\t O\t O\t\n",
      "c\t O\t O\t X\t X\t O\t O\t\n",
      "d\t X\t O\t O\t O\t O\t O\t\n",
      "e\t O\t O\t X\t O\t O\t O\t\n",
      "f\t O\t O\t O\t O\t O\t X\t\n",
      "g\t O\t O\t X\t X\t O\t O\t\n",
      "h\t X\t O\t O\t O\t O\t O\t\n",
      "i\t O\t X\t O\t X\t O\t O\t\n",
      "h\t O\t O\t O\t X\t O\t O\t\n"
     ]
    }
   ],
   "source": [
    "import re\n",
    "import requests\n",
    "import json\n",
    "\n",
    "url=\"http://ihongss.com/json/exam18.json\"\n",
    "data=requests.get(url).text\n",
    "data1 = json.loads(data)\n",
    "\n",
    "for tmp in data1:\n",
    "    print(tmp)\n",
    "\n",
    "print(\"=\"*50)\n",
    "print(\"id\\t\",\"name\\t\",\"email\\t\",\"date\\t\",\"time\\t\",\"birth\\t\",\"적합여부\")    \n",
    "\n",
    "for tmp in data1:\n",
    "    fit_name=re.match('^[가-힣]{2,5}$',tmp['name'])\n",
    "    fit_email=re.match('^[a-zA-Z0-9_]+\\@[a-zA-Z0-9_]+\\.[a-zA-Z0-9]{3}$',tmp['email'])\n",
    "    fit_date=re.match('^(1[8-9][0-9][0-9]|2[0][0-2][0-9])\\-(0[1-9]|1[0-2])\\-(0[1-9]|1[0-9]|2[0-9]|3[0-1])$',tmp['date'])\n",
    "    fit_time=re.match('^(0[0-9]|1[0-9]|2[0-3])\\:([0-5][0-9])\\:([0-5][0-9])$',tmp['time'])\n",
    "    fit_birth=re.match('^(0[1-9]|1[0-2])\\/(0[1-9]|1[0-9]|2[0-9]|3[0-1])\\/(1[8-9][0-9][0-9]|2[0][0-2][0-9])$',tmp['birth'])\n",
    "    \n",
    "    print(tmp['id']+\"\\t\",\n",
    "          (\"X\\t\" if fit_name == None else \"O\\t\"),\n",
    "          (\"X\\t\" if fit_email == None else \"O\\t\"),\n",
    "          (\"X\\t\" if fit_date == None else \"O\\t\"),\n",
    "          (\"X\\t\" if fit_time == None else \"O\\t\"),\n",
    "          (\"X\\t\" if fit_birth == None else \"O\\t\"),\n",
    "          (\"O\\t\" if not(fit_name == None or fit_email == None or fit_date == None or fit_time == None or fit_birth == None ) else \"X\\t\"))\n",
    "\n",
    "# for tmp in data1:\n",
    "#     print(tmp)\n",
    "#     fit_name=re.match('^[가-힣]{2,5}$',tmp['name'])\n",
    "#     fit_email=re.match('^[a-zA-Z0-9_]+\\@[a-zA-Z0-9_]+\\.[a-zA-Z0-9]{3}$',tmp['email'])\n",
    "#     fit_date=re.match('^(1[8-9][0-9][0-9]|2[0][0-2][0-9])\\-(0[1-9]|1[0-2])\\-(0[1-9]|1[0-9]|2[0-9]|3[0-1])$',tmp['date'])\n",
    "#     fit_time=re.match('^(0[0-9]|1[0-9]|2[0-3])\\:([0-5][0-9])\\:([0-5][0-9])$',tmp['time'])\n",
    "#     fit_birth=re.match('^(0[1-9]|1[0-2])\\/(0[1-9]|1[0-9]|2[0-9]|3[0-1])\\/(1[8-9][0-9][0-9]|2[0][0-2][0-9])$',tmp['birth'])\n",
    "    \n",
    "#     print(\"이름\\t\",fit_name)\n",
    "#     print(\"이메일\\t\",fit_email)\n",
    "#     print(\"날짜\\t\",fit_date)\n",
    "#     print(\"시간\\t\",fit_time)\n",
    "#     print(\"생일\\t\",fit_birth)\n",
    "    \n",
    "#     if (fit_name == None or fit_email == None or fit_date == None or fit_time == None or fit_birth == None ):\n",
    "#         print(\"적합하지 않은 데이터\")\n",
    "#     else:\n",
    "#         print(\"적합한 데이터\")\n",
    "#     print(\"=\"*50)"
   ]
  }
 ],
 "metadata": {
  "kernelspec": {
   "display_name": "Python 3",
   "language": "python",
   "name": "python3"
  },
  "language_info": {
   "codemirror_mode": {
    "name": "ipython",
    "version": 3
   },
   "file_extension": ".py",
   "mimetype": "text/x-python",
   "name": "python",
   "nbconvert_exporter": "python",
   "pygments_lexer": "ipython3",
   "version": "3.8.8"
  }
 },
 "nbformat": 4,
 "nbformat_minor": 5
}
