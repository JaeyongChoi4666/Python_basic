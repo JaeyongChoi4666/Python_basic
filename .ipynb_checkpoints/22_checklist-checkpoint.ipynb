{
 "cells": [
  {
   "cell_type": "code",
   "execution_count": 1,
   "id": "3b57f80a-2c4e-4c62-a3d7-4740e0d4ece9",
   "metadata": {},
   "outputs": [
    {
     "name": "stdout",
     "output_type": "stream",
     "text": [
      "분노의 질주: 더 얼티메이트 https://movie.naver.com/movie/bi/mi/basic.nhn?code=189150\n",
      "스파이럴 https://movie.naver.com/movie/bi/mi/basic.nhn?code=191570\n",
      "더 스파이 https://movie.naver.com/movie/bi/mi/basic.nhn?code=191914\n",
      "크루즈 패밀리: 뉴 에이지 https://movie.naver.com/movie/bi/mi/basic.nhn?code=107992\n",
      "극장판 귀멸의 칼날: 무한열차편 https://movie.naver.com/movie/bi/mi/basic.nhn?code=196051\n"
     ]
    },
    {
     "data": {
      "text/plain": [
       "['https://movie.naver.com//movie/bi/mi/basic.nhn?code=189150',\n",
       " 'https://movie.naver.com//movie/bi/mi/basic.nhn?code=191570',\n",
       " 'https://movie.naver.com//movie/bi/mi/basic.nhn?code=191914',\n",
       " 'https://movie.naver.com//movie/bi/mi/basic.nhn?code=107992',\n",
       " 'https://movie.naver.com//movie/bi/mi/basic.nhn?code=196051']"
      ]
     },
     "execution_count": 1,
     "metadata": {},
     "output_type": "execute_result"
    }
   ],
   "source": [
    "# 1. 아래페이지에서 순위가 1위부터 5위까지의 영화제목과 링크를 수집\n",
    "# https://movie.naver.com/movie/sdb/rank/rmovie.nhn?sel=cnt&date=20210525\n",
    "\n",
    "import requests\n",
    "import bs4\n",
    "\n",
    "url = \"https://movie.naver.com/movie/sdb/rank/rmovie.nhn?sel=cnt&date=20210520\"\n",
    "response = requests.get(url)\n",
    "\n",
    "soup = bs4.BeautifulSoup(response.text, 'html.parser') \n",
    "\n",
    "arr = []\n",
    "for tmp in soup.select(\"div.tit3\", limit=5 ):\n",
    "    print(tmp.select_one('a').attrs['title'], 'https://movie.naver.com' + tmp.select_one('a').attrs['href'])    \n",
    "    \n",
    "    arr.append('https://movie.naver.com/' + tmp.select_one('a').attrs['href'])\n",
    "\n",
    "arr  # 수집된 영화상세페이지 링크 리스트 "
   ]
  },
  {
   "cell_type": "code",
   "execution_count": 2,
   "id": "9490fc81-fa64-48d2-9a83-6b367986e3be",
   "metadata": {},
   "outputs": [
    {
     "name": "stdout",
     "output_type": "stream",
     "text": [
      "영화제목 :  분노의 질주: 더 얼티메이트\n",
      "장르 :  액션\n",
      "관람등급 :  12세 관람가\n",
      "관람객평점 :  관람객 평점 9.06점\n",
      "상영시간 :  142분 \n",
      "개봉일 :  2021.05.19\n",
      "감독 :  저스틴 린\n",
      "배우 :  빈 디젤(도미닉 토레토), 존 시나(제이콥 토레토), 성 강(한)\n",
      "==============================\n",
      "영화제목 :  스파이럴\n",
      "장르 :  스릴러\n",
      "관람등급 :  청소년 관람불가\n",
      "관람객평점 :  관람객 평점 7.78점\n",
      "상영시간 :  93분 \n",
      "개봉일 :  2021.05.12\n",
      "감독 :  대런 린 보우즈만\n",
      "배우 :  크리스 록, 사무엘 L. 잭슨, 마리솔 니콜스\n",
      "==============================\n",
      "영화제목 :  더 스파이\n",
      "장르 :  스릴러\n",
      "관람등급 :  15세 관람가\n",
      "관람객평점 :  관람객 평점 8.77점\n",
      "상영시간 :  112분 \n",
      "개봉일 :  2021.04.28\n",
      "감독 :  도미닉 쿡\n",
      "배우 :  베네딕트 컴버배치(그레빌 윈)\n",
      "==============================\n",
      "영화제목 :  크루즈 패밀리: 뉴 에이지\n",
      "장르 :  애니메이션\n",
      "관람등급 :  전체 관람가\n",
      "관람객평점 :  관람객 평점 9.35점\n",
      "상영시간 :  95분 \n",
      "개봉일 :  2021.05.05\n",
      "감독 :  조엘 크로포드\n",
      "배우 :  엠마 스톤(이프 목소리), 라이언 레이놀즈(가이 목소리), 켈리 마리 트란(던 목소리)\n",
      "==============================\n",
      "영화제목 :  극장판 귀멸의 칼날: 무한열차편\n",
      "장르 :  애니메이션\n",
      "관람등급 :  15세 관람가\n",
      "관람객평점 :  관람객 평점 9.62점\n",
      "상영시간 :  117분 \n",
      "개봉일 :  2021.01.27\n",
      "감독 :  소토자키 하루오\n",
      "배우 :  하나에 나츠키(카마도 탄지로 목소리), 키토 아카리(카마도 네즈코 목소리)\n",
      "==============================\n"
     ]
    }
   ],
   "source": [
    "#------------------------------------\n",
    "# 2. 수집된 링크를 이용하여 상세페이지 수집(영화제목, 관람등급, 관객평점, 장르, 상영시간, 개봉일, 감독, 출연배우)\n",
    "# 이 부분은 위에서 수집한 링크 주소 예시1) https://movie.naver.com/movie/bi/mi/basic.nhn?code=189150\n",
    "\n",
    "import requests\n",
    "import bs4\n",
    "\n",
    "arr3 = []\n",
    "for tmp in arr:\n",
    "    url = tmp\n",
    "    response = requests.get(url)\n",
    "\n",
    "    soup = bs4.BeautifulSoup(response.text, 'html.parser') \n",
    "    \n",
    "    a = soup.select_one('#content > div.article > div.mv_info_area > div.mv_info > h3 > a:nth-child(1)')\n",
    "    print(\"영화제목 : \", a.text)\n",
    "\n",
    "    b = soup.select_one('#content > div.article > div.mv_info_area > div.mv_info > dl > dd:nth-child(2) > p > span:nth-child(1) > a')\n",
    "    print(\"장르 : \", b.text)\n",
    "\n",
    "    c = soup.select_one(\"#content > div.article > div.mv_info_area > div.mv_info > dl > dd:nth-child(8) > p > a\")\n",
    "    print(\"관람등급 : \", c.text)\n",
    "    \n",
    "    d = soup.select_one(\"#actualPointPersentBasic > div > span > span\")\n",
    "    print(\"관람객평점 : \", d.text)\n",
    "\n",
    "    e = soup.select_one(\"#content > div.article > div.mv_info_area > div.mv_info > dl > dd:nth-child(2) > p > span:nth-child(3)\")\n",
    "    print(\"상영시간 : \", e.text)\n",
    "    \n",
    "    f = soup.select_one(\"#content > div.article > div.mv_info_area > div.mv_info > dl > dd:nth-child(2) > p > span:nth-child(4) > a:nth-child(1)\")\n",
    "    g = soup.select_one(\"#content > div.article > div.mv_info_area > div.mv_info > dl > dd:nth-child(2) > p > span:nth-child(4) > a:nth-child(2)\")\n",
    "    print(\"개봉일 : \" , f.text.strip() +  g.text)\n",
    "\n",
    "    h = soup.select_one(\"#content > div.article > div.mv_info_area > div.mv_info > dl > dd:nth-child(4)\")\n",
    "    print(\"감독 : \", h.text)\n",
    "\n",
    "    j = []\n",
    "    for tmp in soup.select(\"#content > div.article > div.mv_info_area > div.mv_info > dl > dd:nth-child(6) > p\"):\n",
    "        j.append(tmp.text)\n",
    "        \n",
    "    print(\"배우 : \", ','.join(j)); \n",
    "    \n",
    "    print(\"=\" * 30)\n",
    "        \n",
    "    arr3.append({\"a\":a.text, \"b\":b.text,\"c\":c.text,\"d\":d.text,\"e\":e.text,\"f\":f.text.strip() +  g.text, \"h\":h.text, \"j\": ','.join(j)})"
   ]
  }
 ],
 "metadata": {
  "kernelspec": {
   "display_name": "Python 3",
   "language": "python",
   "name": "python3"
  },
  "language_info": {
   "codemirror_mode": {
    "name": "ipython",
    "version": 3
   },
   "file_extension": ".py",
   "mimetype": "text/x-python",
   "name": "python",
   "nbconvert_exporter": "python",
   "pygments_lexer": "ipython3",
   "version": "3.8.8"
  }
 },
 "nbformat": 4,
 "nbformat_minor": 5
}
