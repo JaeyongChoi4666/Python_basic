{
 "cells": [
  {
   "cell_type": "code",
   "execution_count": 7,
   "id": "a10fe89c-6285-4c1a-b1c9-d2d8219c206b",
   "metadata": {},
   "outputs": [
    {
     "ename": "AttributeError",
     "evalue": "'str' object has no attribute 'text'",
     "output_type": "error",
     "traceback": [
      "\u001b[1;31m---------------------------------------------------------------------------\u001b[0m",
      "\u001b[1;31mAttributeError\u001b[0m                            Traceback (most recent call last)",
      "\u001b[1;32m<ipython-input-7-58af79096ece>\u001b[0m in \u001b[0;36m<module>\u001b[1;34m\u001b[0m\n\u001b[0;32m     29\u001b[0m \u001b[1;33m\u001b[0m\u001b[0m\n\u001b[0;32m     30\u001b[0m \u001b[1;31m#html을 bs4로 파싱\u001b[0m\u001b[1;33m\u001b[0m\u001b[1;33m\u001b[0m\u001b[1;33m\u001b[0m\u001b[0m\n\u001b[1;32m---> 31\u001b[1;33m \u001b[0msoup\u001b[0m\u001b[1;33m=\u001b[0m\u001b[0mbs4\u001b[0m\u001b[1;33m.\u001b[0m\u001b[0mBeautifulSoup\u001b[0m\u001b[1;33m(\u001b[0m\u001b[0mresponse\u001b[0m\u001b[1;33m.\u001b[0m\u001b[0mtext\u001b[0m\u001b[1;33m,\u001b[0m\u001b[1;34m'html.parser'\u001b[0m\u001b[1;33m)\u001b[0m\u001b[1;33m\u001b[0m\u001b[1;33m\u001b[0m\u001b[0m\n\u001b[0m\u001b[0;32m     32\u001b[0m \u001b[1;33m\u001b[0m\u001b[0m\n\u001b[0;32m     33\u001b[0m \u001b[0msoup\u001b[0m\u001b[1;33m\u001b[0m\u001b[1;33m\u001b[0m\u001b[0m\n",
      "\u001b[1;31mAttributeError\u001b[0m: 'str' object has no attribute 'text'"
     ]
    }
   ],
   "source": [
    "from selenium import webdriver\n",
    "import bs4\n",
    "import time\n",
    "import urllib.request as REQ\n",
    "from selenium.webdriver.common.keys import Keys\n",
    "\n",
    "url=\"http://ihongss.com/webboard\"\n",
    "\n",
    "options = webdriver.ChromeOptions()\n",
    "options = webdriver.ChromeOptions()\n",
    "options.add_argument(\"disable-gpu\")   \n",
    "options.add_argument(\"lang=ko_KR\")    \n",
    "options.add_argument('user-agent=Mozilla/5.0 (Macintosh; Intel Mac OS X 10_12_6) AppleWebKit/537.36 (KHTML, like Gecko) Chrome/61.0.3163.100 Safari/537.36')  # user-agent \n",
    "driver = webdriver.Chrome(executable_path=\"driver/chromedriver.exe\",options=options)\n",
    "driver.get(url)\n",
    "time.sleep(1)\n",
    "\n",
    "\"\"\"\"\n",
    "<input type=\"text\" name=\"email\" value=\"\" class=\"form-control\" placeholder=\"이메일을 입력하세요.\">\n",
    "\"\"\"\n",
    "\n",
    "driver.execute_script(\"document.getElementsByName('email')[0].value='b20201223'\")\n",
    "driver.execute_script(\"document.getElementsByName('pw')[0].value='b20201223'\")\n",
    "time.sleep(1)\n",
    "driver.find_element_by_xpath('//*[@id=\"form1\"]/div[3]/input').click()\n",
    "\n",
    "#로그인 이후 로딩페이지 html 가져오기\n",
    "response = driver.page_source\n",
    "\n",
    "#html을 bs4로 파싱\n",
    "soup=bs4.BeautifulSoup(response,\"html.parser\")\n",
    "\n",
    "soup"
   ]
  }
 ],
 "metadata": {
  "kernelspec": {
   "display_name": "Python 3",
   "language": "python",
   "name": "python3"
  },
  "language_info": {
   "codemirror_mode": {
    "name": "ipython",
    "version": 3
   },
   "file_extension": ".py",
   "mimetype": "text/x-python",
   "name": "python",
   "nbconvert_exporter": "python",
   "pygments_lexer": "ipython3",
   "version": "3.8.8"
  }
 },
 "nbformat": 4,
 "nbformat_minor": 5
}
