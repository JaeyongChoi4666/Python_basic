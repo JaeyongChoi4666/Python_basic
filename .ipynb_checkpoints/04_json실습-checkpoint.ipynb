{
 "cells": [
  {
   "cell_type": "code",
   "execution_count": 24,
   "id": "3b6c8638-9ba1-436a-8b63-505804878608",
   "metadata": {},
   "outputs": [
    {
     "name": "stdout",
     "output_type": "stream",
     "text": [
      "[{\"ret\":\"y1\",\"data\":\"123\"},{\"ret\":\"y2\",\"data\":\"234\"}]\n",
      "<class 'str'>\n",
      "[{'ret': 'y1', 'data': '123'}, {'ret': 'y2', 'data': '234'}]\n",
      "<class 'list'>\n",
      "{'ret': 'y1', 'data': '123'} <class 'dict'>\n",
      "{'ret': 'y2', 'data': '234'} <class 'dict'>\n"
     ]
    },
    {
     "data": {
      "text/plain": [
       "[['y1', 123], ['y2', 234]]"
      ]
     },
     "execution_count": 24,
     "metadata": {},
     "output_type": "execute_result"
    }
   ],
   "source": [
    "import requests\n",
    "import json\n",
    "\n",
    "url=\"http://ihongss.com/json/exam2.json\"\n",
    "data=requests.get(url).text\n",
    "print(data)\n",
    "print(type(data))\n",
    "\n",
    "#string -> list\n",
    "data1 = json.loads(data)\n",
    "print(data1)\n",
    "print(type(data1))\n",
    "len(data1)\n",
    "\n",
    "data2=[]\n",
    "for i in data1:\n",
    "    print(i,type(i))\n",
    "    data2.append([i['ret'],int(i['data'])])\n",
    "    \n",
    "data2"
   ]
  },
  {
   "cell_type": "code",
   "execution_count": 46,
   "id": "8fbadbba-034f-47f5-b607-8de3c1a06773",
   "metadata": {},
   "outputs": [],
   "source": [
    "# CSV파일로 저장하기\n",
    "\n",
    "import csv\n",
    "\n",
    "# 저장위치, w, r, a, utf-8, euc-kr\n",
    "file = open('csv/20210518_1103.csv', 'w', \n",
    "            encoding='utf-8', newline='')\n",
    "wr = csv.writer(file)\n",
    "\n",
    "wr.writerow(['ret', 'data'])\n",
    "for i in data2:\n",
    "    wr.writerow(i)\n",
    "    \n",
    "file.close() "
   ]
  },
  {
   "cell_type": "code",
   "execution_count": 47,
   "id": "218f69bf-9bb9-4664-9917-221b915e691e",
   "metadata": {},
   "outputs": [
    {
     "name": "stdout",
     "output_type": "stream",
     "text": [
      "['y1', '123']\n",
      "['y2', '234']\n"
     ]
    }
   ],
   "source": [
    "import csv\n",
    "# 읽을위치, w, r, a, utf-8, euc-kr\n",
    "file = open('csv/20210518_1103.csv', 'r', encoding='utf-8')\n",
    "rd = csv.reader(file)\n",
    "next(rd, None) #한줄 skip\n",
    "for i in rd:\n",
    "    print(i)\n",
    "    \n",
    "file.close()    "
   ]
  }
 ],
 "metadata": {
  "kernelspec": {
   "display_name": "Python 3",
   "language": "python",
   "name": "python3"
  },
  "language_info": {
   "codemirror_mode": {
    "name": "ipython",
    "version": 3
   },
   "file_extension": ".py",
   "mimetype": "text/x-python",
   "name": "python",
   "nbconvert_exporter": "python",
   "pygments_lexer": "ipython3",
   "version": "3.8.8"
  }
 },
 "nbformat": 4,
 "nbformat_minor": 5
}
