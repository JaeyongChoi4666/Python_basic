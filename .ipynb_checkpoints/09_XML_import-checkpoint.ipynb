{
 "cells": [
  {
   "cell_type": "code",
   "execution_count": 1,
   "id": "960a9e56-c527-4b38-b153-32f11c19274c",
   "metadata": {},
   "outputs": [
    {
     "data": {
      "text/plain": [
       "b'<?xml version=\\'1.0\\' encoding=\\'utf-8\\'?>\\n<response>\\n  <items>\\n    <item id=\"1\">\\n      <name>one</name>\\n    </item>\\n    <item id=\"2\">\\n      <name>two</name>\\n    </item>\\n    <item id=\"3\">\\n      <name>three</name>\\n    </item>\\n  </items>\\n</response>\\n'"
      ]
     },
     "execution_count": 1,
     "metadata": {},
     "output_type": "execute_result"
    }
   ],
   "source": [
    "# XML 수집하기\n",
    "# http://ihongss.com/xml/exam1.xml\n",
    "\n",
    "import urllib.request\n",
    "\n",
    "url = 'http://ihongss.com/xml/exam1.xml'\n",
    "\n",
    "response = urllib.request.urlopen(url).read()\n",
    "response"
   ]
  },
  {
   "cell_type": "code",
   "execution_count": 11,
   "id": "9dfe4562-24e2-4bca-bbab-a62a079613a2",
   "metadata": {},
   "outputs": [
    {
     "data": {
      "text/plain": [
       "b'<?xml version=\\'1.0\\' encoding=\\'utf-8\\'?>\\n<response>\\n  <items>\\n    <item id=\"1\">\\n      <name>one</name>\\n    </item>\\n    <item id=\"2\">\\n      <name>two</name>\\n    </item>\\n    <item id=\"3\">\\n      <name>three</name>\\n    </item>\\n  </items>\\n</response>\\n'"
      ]
     },
     "execution_count": 11,
     "metadata": {},
     "output_type": "execute_result"
    }
   ],
   "source": [
    "# 위와 동일한 import방법이 다름\n",
    "from urllib.request import urlopen\n",
    "\n",
    "url = 'http://ihongss.com/xml/exam1.xml'\n",
    "\n",
    "response = urlopen(url).read()\n",
    "response"
   ]
  },
  {
   "cell_type": "code",
   "execution_count": 17,
   "id": "180bccc0-05f3-4445-a0bc-8a445e562862",
   "metadata": {},
   "outputs": [
    {
     "name": "stdout",
     "output_type": "stream",
     "text": [
      "item {'id': '1'} \n",
      "      \n",
      "name {} one\n",
      "item {'id': '2'} \n",
      "      \n",
      "name {} two\n",
      "item {'id': '3'} \n",
      "      \n",
      "name {} three\n"
     ]
    }
   ],
   "source": [
    "import xml.etree.ElementTree as et\n",
    "\n",
    "# 데이터 파싱\n",
    "root = et.fromstring(response)\n",
    "\n",
    "for tmp in root: #1번\n",
    "#     print(tmp.tag, tmp.attrib, tmp.text)\n",
    "    for tmp1 in tmp:\n",
    "        print(tmp1.tag, tmp1.attrib, tmp1.text)\n",
    "        for tmp2 in tmp1:\n",
    "            print(tmp2.tag, tmp2.attrib, tmp2.text)"
   ]
  },
  {
   "cell_type": "code",
   "execution_count": 4,
   "id": "298340db-5c57-486d-9116-393eed7d5fcd",
   "metadata": {},
   "outputs": [
    {
     "name": "stdout",
     "output_type": "stream",
     "text": [
      "1 one\n",
      "2 two\n",
      "3 three\n"
     ]
    }
   ],
   "source": [
    "import xml.etree.ElementTree as et\n",
    "\n",
    "root = et.fromstring(response)\n",
    "\n",
    "for tmp in root.findall(\"items/item\"):\n",
    "#     print(tmp.tag, tmp.attrib, tmp.text)\n",
    "    print(tmp.attrib['id'], tmp.find(\"name\").text)"
   ]
  },
  {
   "cell_type": "code",
   "execution_count": 6,
   "id": "657456de-f694-4895-b302-f1bf0efdb4eb",
   "metadata": {},
   "outputs": [
    {
     "name": "stdout",
     "output_type": "stream",
     "text": [
      "<class 'bytes'>\n",
      "<Element 'student' at 0x00000267DBD0C3B0>\n",
      "a 11 id_a addr1\n",
      "<Element 'student' at 0x00000267DCF7B4A0>\n",
      "b 22 id_b addr2\n",
      "[{'name': 'a', 'age': '11', 'addr_id': 'id_a', 'addr': 'addr1'}, {'name': 'b', 'age': '22', 'addr_id': 'id_b', 'addr': 'addr2'}]\n"
     ]
    }
   ],
   "source": [
    "# 이름, 나이, 주소속성, 주소값 => 가져와서 => [{ },{ }] => DB에 추가\n",
    "import urllib.request as RQ\n",
    "import xml.etree.ElementTree as ET\n",
    "\n",
    "url = \"http://ihongss.com/resources/student.xml\"\n",
    "\n",
    "# 웹에서 데이터를 받음\n",
    "response = RQ.urlopen(url).read() #bytes type\n",
    "\n",
    "# 타입 변경 (bytes -> xml.etree.ElementTree.Element)\n",
    "root = ET.fromstring(response)\n",
    "\n",
    "arr = []\n",
    "# for tmp in root.iterfind(\"student\"):  #아래 for문과 동일\n",
    "for tmp in root.findall(\"student\"):\n",
    "    print(tmp)\n",
    "    # 하위 name태의 값, age값, addr의 속성값(딕셔너리), addr의 값\n",
    "    print(tmp.find(\"name\").text, \n",
    "          tmp.findtext(\"age\"),\n",
    "          tmp.find(\"addr\").attrib['id'],\n",
    "          tmp.findtext(\"addr\"))\n",
    "\n",
    "    tmp1 = {\"name\" : tmp.find(\"name\").text, \"age\" : tmp.findtext(\"age\"), \"addr_id\" : tmp.find(\"addr\").attrib['id'], \"addr\" : tmp.findtext(\"addr\") }\n",
    "    arr.append(tmp1)\n",
    "\n",
    "print(arr)"
   ]
  },
  {
   "cell_type": "code",
   "execution_count": 18,
   "id": "14fce009-2db2-4040-b9ab-7a4f35ce6151",
   "metadata": {},
   "outputs": [
    {
     "name": "stdout",
     "output_type": "stream",
     "text": [
      "{'id': 'a'} <class 'dict'>\n",
      "{'id': 'b'} <class 'dict'>\n",
      "{'id': 'a'} <class 'dict'>\n",
      "[{'id': 'a'}, {'id': 'b'}, {'id': 'a'}] <class 'list'>\n"
     ]
    }
   ],
   "source": [
    "# 참고용 : 딕셔너리, 리스트\n",
    "\n",
    "#딕셔너리 생성 1 : 빈 -> 값추가\n",
    "a = {}\n",
    "a[\"id\"] = \"a\"\n",
    "print(a, type(a))\n",
    "\n",
    "#딕셔너리 생성 2 : 빈 -> 값추가\n",
    "b = dict()\n",
    "b[\"id\"] = \"b\"\n",
    "print(b, type(b))\n",
    "\n",
    "#딕셔너리 생성 3 : 생성하면서 값도 추가\n",
    "c = {\"id\":\"a\"}\n",
    "print(c, type(c))\n",
    "\n",
    "d = []\n",
    "d.append(a)\n",
    "d.append(b)\n",
    "d.append(c)\n",
    "print(d, type(d))"
   ]
  },
  {
   "cell_type": "code",
   "execution_count": 20,
   "id": "c90dcc92-8e9a-47b7-84b3-81fbe343c595",
   "metadata": {},
   "outputs": [
    {
     "name": "stdout",
     "output_type": "stream",
     "text": [
      "정상수행\n",
      "오류와 상관없이 수행됨\n"
     ]
    }
   ],
   "source": [
    "# 수집한 자료를 DB에 추가하기\n",
    "import pymongo\n",
    "\n",
    "try:\n",
    "    username = \"id125\"\n",
    "    password = \"pw125\"\n",
    "    host = \"1.234.5.158\"\n",
    "    port = 37017\n",
    "    dbname = \"id125\"\n",
    "    \n",
    "    # mongodb접속\n",
    "    conn = pymongo.MongoClient(f'mongodb://{username}:{password}@{host}:{port}/{dbname}')\n",
    "    db = conn.get_database(dbname)\n",
    "    collection = db.get_collection(\"student_20210520\")  #table과 같은 개념\n",
    "    \n",
    "    # 여러개 추가하기\n",
    "    collection.insert_many(arr)\n",
    "    print('정상수행')\n",
    "except Exception as e:\n",
    "    print(e)\n",
    "    print('오류발생시 수행됨')\n",
    "finally:\n",
    "    conn.close()\n",
    "    print('오류와 상관없이 수행됨')"
   ]
  },
  {
   "cell_type": "code",
   "execution_count": 21,
   "id": "ee97cf80-8244-4f56-a354-b3f9c0acdc94",
   "metadata": {},
   "outputs": [
    {
     "name": "stdout",
     "output_type": "stream",
     "text": [
      "one\n",
      "two\n",
      "three\n",
      "==============================\n",
      "one\n",
      "two\n",
      "three\n"
     ]
    }
   ],
   "source": [
    "# 실습하기\n",
    "# http://ihongss.com/xml/exam4.xml\n",
    "\n",
    "import urllib.request as RQ\n",
    "import xml.etree.ElementTree as ET\n",
    "\n",
    "url = \"http://ihongss.com/xml/exam4.xml\"\n",
    "\n",
    "# 웹에서 데이터를 받음\n",
    "response = RQ.urlopen(url).read()\n",
    "\n",
    "# 타입 변경 (bytes -> xml.etree.ElementTree.Element)\n",
    "root = ET.fromstring(response)\n",
    "\n",
    "for tmp in root:\n",
    "    for tmp1 in tmp:\n",
    "        if tmp1.find(\"genre\") != None: #태그의 존재유무 확인\n",
    "            print(tmp1.find(\"genre\").text)\n",
    "        elif tmp1.find(\"name\") != None:  \n",
    "            print(tmp1.find(\"name\").text)\n",
    "\n",
    "print(\"=\" * 30)\n",
    "\n",
    "for tmp1 in root.findall(\"collection/collection\"):\n",
    "    if tmp1.find(\"genre\") != None: #태그의 존재유무 확인\n",
    "        print(tmp1.find(\"genre\").text)\n",
    "    elif tmp1.find(\"name\") != None:  \n",
    "        print(tmp1.find(\"name\").text)"
   ]
  },
  {
   "cell_type": "code",
   "execution_count": 26,
   "id": "c8dd2075-5128-405a-ac07-8d51de6b7130",
   "metadata": {},
   "outputs": [
    {
     "name": "stdout",
     "output_type": "stream",
     "text": [
      "A History of Violence 2005\n",
      "감독 :  Cronenberg David 1943\n",
      "배우 :  Mortensen\n",
      "배우 :  Bello\n",
      "배우 :  Harris\n",
      "배우 :  Hurt\n",
      "{'title': 'A History of Violence', 'year': '2005', 'director_name': 'Cronenberg David', 'director_birthdate': '1943'}\n",
      "==============================\n",
      "Heat 1995\n",
      "감독 :  Mann Michael 1943\n",
      "배우 :  Pacino\n",
      "배우 :  De Niro\n",
      "배우 :  Kilmer\n",
      "배우 :  Voight\n",
      "{'title': 'Heat', 'year': '1995', 'director_name': 'Mann Michael', 'director_birthdate': '1943'}\n",
      "==============================\n",
      "Unforgiven 1992\n",
      "감독 :  Eastwood Clint 1930\n",
      "배우 :  Eastwood\n",
      "배우 :  Hackman\n",
      "배우 :  Freeman\n",
      "{'title': 'Unforgiven', 'year': '1992', 'director_name': 'Eastwood Clint', 'director_birthdate': '1930'}\n",
      "==============================\n",
      "Match Point 2005\n",
      "감독 :  Allen Woody 1935\n",
      "배우 :  Rhys Meyers\n",
      "배우 :  Johansson\n",
      "{'title': 'Match Point', 'year': '2005', 'director_name': 'Allen Woody', 'director_birthdate': '1935'}\n",
      "==============================\n",
      "Lost in Translation 2003\n",
      "감독 :  Coppola Sofia 1971\n",
      "배우 :  Johansson\n",
      "배우 :  Murray\n",
      "{'title': 'Lost in Translation', 'year': '2003', 'director_name': 'Coppola Sofia', 'director_birthdate': '1971'}\n",
      "==============================\n",
      "Marie Antoinette 2006\n",
      "감독 :  Coppola Sofia 1971\n",
      "배우 :  Dunst\n",
      "배우 :  Schwartzman\n",
      "{'title': 'Marie Antoinette', 'year': '2006', 'director_name': 'Coppola Sofia', 'director_birthdate': '1971'}\n",
      "==============================\n",
      "Spider-Man 2002\n",
      "감독 :  Raimi Sam 1959\n",
      "배우 :  Dunst\n",
      "배우 :  Maguire\n",
      "배우 :  Dafoe\n",
      "{'title': 'Spider-Man', 'year': '2002', 'director_name': 'Raimi Sam', 'director_birthdate': '1959'}\n",
      "==============================\n"
     ]
    }
   ],
   "source": [
    "# http://webdam.inria.fr/Jorge/files/movies.xml\n",
    "# 수집항목 : 제목, 개봉일, 나라, 장르, 감독이름, 감독출생일, 배우이름, 출생일, 역할 (여러명)\n",
    "\n",
    "import urllib.request as RQ\n",
    "import xml.etree.ElementTree as ET\n",
    "\n",
    "url = \"http://webdam.inria.fr/Jorge/files/movies.xml\"\n",
    "\n",
    "# 웹에서 데이터를 받음\n",
    "response = RQ.urlopen(url).read()\n",
    "\n",
    "# 타입 변경 (bytes -> xml.etree.ElementTree.Element)\n",
    "root = ET.fromstring(response)\n",
    "\n",
    "\n",
    "\n",
    "arr = []\n",
    "for tmp in root:\n",
    "    #딕셔너리 생성\n",
    "    data = {\"title\" : tmp.find(\"title\").text, \"year\" : tmp.findtext(\"year\") }\n",
    "\n",
    "    for tmp1 in tmp.findall('director'):\n",
    "        #딕셔너리에 키가 다른 값 추가\n",
    "        data['director_name'] = tmp1.find(\"last_name\").text + \" \" + tmp1.find(\"first_name\").text\n",
    "        data['director_birth_date'] = int(tmp1.findtext(\"birth_date\"))\n",
    "    \n",
    "    # enumerate => 반복시  idx번호, tmp1값\n",
    "    for idx, tmp1 in enumerate(tmp.findall('actor')):\n",
    "        data['actor_name_' + str(idx)] = tmp1.find(\"last_name\").text + \" \" + tmp1.find(\"first_name\").text\n",
    "        data['actor_birth_date_' + str(idx)] = tmp1.find(\"birth_date\").text\n",
    "        data['actor_role_' + str(idx)] = tmp1.find(\"role\").text\n",
    "    \n",
    "    arr.append(data);\n",
    "\n",
    "print(arr)"
   ]
  }
 ],
 "metadata": {
  "kernelspec": {
   "display_name": "Python 3",
   "language": "python",
   "name": "python3"
  },
  "language_info": {
   "codemirror_mode": {
    "name": "ipython",
    "version": 3
   },
   "file_extension": ".py",
   "mimetype": "text/x-python",
   "name": "python",
   "nbconvert_exporter": "python",
   "pygments_lexer": "ipython3",
   "version": "3.8.8"
  }
 },
 "nbformat": 4,
 "nbformat_minor": 5
}
