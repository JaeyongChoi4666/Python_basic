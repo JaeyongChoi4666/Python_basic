{
 "cells": [
  {
   "cell_type": "code",
   "execution_count": 2,
   "id": "4bdfa2d6-7413-4751-80b6-893dc4f71cee",
   "metadata": {},
   "outputs": [
    {
     "name": "stdout",
     "output_type": "stream",
     "text": [
      "https://simage.kyobobook.co.kr/images/book/large/882/l9791162241882.jpg\n",
      "==================================================\n",
      "https://simage.kyobobook.co.kr/images/book/large/911/l9791163030911.jpg\n",
      "==================================================\n",
      "https://simage.kyobobook.co.kr/images/book/large/077/l9791162243077.jpg\n",
      "==================================================\n",
      "https://simage.kyobobook.co.kr/images/book/large/033/l9791196918033.jpg\n",
      "==================================================\n",
      "https://simage.kyobobook.co.kr/images/book/large/811/l9791196608811.jpg\n",
      "==================================================\n",
      "https://simage.kyobobook.co.kr/images/book/large/178/l9791189909178.jpg\n",
      "==================================================\n",
      "https://simage.kyobobook.co.kr/images/book/large/573/l9788956748573.jpg\n",
      "==================================================\n",
      "https://simage.kyobobook.co.kr/images/book/large/928/l9791158391928.jpg\n",
      "==================================================\n",
      "https://simage.kyobobook.co.kr/images/book/large/719/l1400000345719.jpg\n",
      "==================================================\n",
      "https://simage.kyobobook.co.kr/images/book/large/169/l9791187431169.jpg\n",
      "==================================================\n"
     ]
    }
   ],
   "source": [
    "from selenium import webdriver\n",
    "import bs4\n",
    "import time\n",
    "import urllib.request as REQ\n",
    "from selenium.webdriver.common.keys import Keys\n",
    "\n",
    "url=\"http://www.kyobobook.co.kr\"\n",
    "\n",
    "options = webdriver.ChromeOptions()\n",
    "options = webdriver.ChromeOptions()\n",
    "options.add_argument(\"disable-gpu\")   \n",
    "options.add_argument(\"lang=ko_KR\")    \n",
    "options.add_argument('user-agent=Mozilla/5.0 (Macintosh; Intel Mac OS X 10_12_6) AppleWebKit/537.36 (KHTML, like Gecko) Chrome/61.0.3163.100 Safari/537.36')  # user-agent \n",
    "driver = webdriver.Chrome(executable_path=\"driver/chromedriver.exe\",options=options)\n",
    "driver.get(url)\n",
    "time.sleep(1)\n",
    "\n",
    "driver.find_element_by_xpath('//*[@id=\"searchKeyword\"]').send_keys('파이썬')\n",
    "driver.find_element_by_xpath('//*[@id=\"searchKeyword\"]').send_keys(Keys.ENTER)\n",
    "\n",
    "for idx in range(1, 11, 1):\n",
    "    time.sleep(1)\n",
    "    try:\n",
    "        img = driver.find_element_by_xpath(f'//*[@id=\"search_list\"]/tr[{idx}]/td[1]/div[2]/a/img')\n",
    "        REQ.urlretrieve( img.get_attribute(\"src\"), f'image/naver/python_{idx}.jpg' )\n",
    "        print(img.get_attribute(\"src\"))\n",
    "        print(\"=\"*50)\n",
    "    except Exception as e:\n",
    "        print(e)\n",
    "\n",
    "driver.close()\n",
    "    "
   ]
  }
 ],
 "metadata": {
  "kernelspec": {
   "display_name": "Python 3",
   "language": "python",
   "name": "python3"
  },
  "language_info": {
   "codemirror_mode": {
    "name": "ipython",
    "version": 3
   },
   "file_extension": ".py",
   "mimetype": "text/x-python",
   "name": "python",
   "nbconvert_exporter": "python",
   "pygments_lexer": "ipython3",
   "version": "3.8.8"
  }
 },
 "nbformat": 4,
 "nbformat_minor": 5
}
