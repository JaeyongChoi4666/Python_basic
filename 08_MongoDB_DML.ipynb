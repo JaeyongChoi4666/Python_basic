{
 "cells": [
  {
   "cell_type": "code",
   "execution_count": 1,
   "id": "38436e5b-bf14-455c-bba4-9b8cb80fd69e",
   "metadata": {},
   "outputs": [
    {
     "name": "stdout",
     "output_type": "stream",
     "text": [
      "Requirement already satisfied: pymongo in c:\\users\\admin\\anaconda3\\lib\\site-packages (3.11.4)\n"
     ]
    }
   ],
   "source": [
    "! pip install pymongo"
   ]
  },
  {
   "cell_type": "code",
   "execution_count": 3,
   "id": "9c2fca23-1c77-4a8f-88ec-8092f0b37a18",
   "metadata": {},
   "outputs": [
    {
     "name": "stdout",
     "output_type": "stream",
     "text": [
      "정상수행\n",
      "오류와 상관없이 수행됨\n"
     ]
    }
   ],
   "source": [
    "import pymongo\n",
    "\n",
    "try:\n",
    "    username = \"id125\"\n",
    "    password = \"pw125\"\n",
    "    host = \"1.234.5.158\"\n",
    "    port = 37017\n",
    "    dbname = \"id125\"\n",
    "    \n",
    "    # mongodb접속\n",
    "    conn = pymongo.MongoClient(f'mongodb://{username}:{password}@{host}:{port}/{dbname}')\n",
    "    db = conn.get_database(dbname)\n",
    "    collection = db.get_collection(\"ex1_20210520\")  #table과 같은 개념\n",
    "    \n",
    "    # 딕셔너리 타입으로 1개\n",
    "    data = {\"id\":\"aaa\", \"name\":\"가나다\", \"age\":12}\n",
    "    \n",
    "    # 1개 추가하기\n",
    "    collection.insert_one(data)\n",
    "    \n",
    "    # 여러개    \n",
    "    data1 = [{\"id\":\"aaa\", \"name\":\"가다라\", \"age\":22},\n",
    "             {\"id\":\"aaa\", \"name\":\"다라마\", \"age\":32},\n",
    "             {\"id\":\"aaa\", \"name\":\"다라마\", \"age\":42}]\n",
    "\n",
    "    # 여러개 추가하기\n",
    "    collection.insert_many(data1)\n",
    "             \n",
    "    print('정상수행')\n",
    "except Exception as e:\n",
    "    print(e)\n",
    "    print('오류발생시 수행됨')\n",
    "finally:\n",
    "    conn.close()\n",
    "    print('오류와 상관없이 수행됨')"
   ]
  },
  {
   "cell_type": "code",
   "execution_count": 4,
   "id": "c5926b49-9857-446e-940e-2fc797139f6f",
   "metadata": {},
   "outputs": [
    {
     "name": "stdout",
     "output_type": "stream",
     "text": [
      "{'id': 'aaa', 'name': '가나다', 'age': 12} <class 'dict'>\n",
      "{'id': 'aaa', 'name': '가다라', 'age': 22} <class 'dict'>\n",
      "{'id': 'aaa', 'name': '다라마', 'age': 32} <class 'dict'>\n",
      "{'id': 'aaa', 'name': '다라마', 'age': 42} <class 'dict'>\n"
     ]
    }
   ],
   "source": [
    "# mongdo에서 가져오기\n",
    "# db.ex1_20210520.find({   })\n",
    "data2 = collection.find({},{'_id':0})\n",
    "for tmp in data2:\n",
    "    print(tmp, type(tmp))"
   ]
  },
  {
   "cell_type": "code",
   "execution_count": 5,
   "id": "365fb662-c7af-4145-bc86-51b837a6f17b",
   "metadata": {},
   "outputs": [
    {
     "name": "stdout",
     "output_type": "stream",
     "text": [
      "{'id': 'aaa', 'name': '다라마', 'age': 42} <class 'dict'>\n",
      "{'id': 'aaa', 'name': '다라마', 'age': 32} <class 'dict'>\n",
      "{'id': 'aaa', 'name': '가다라', 'age': 22} <class 'dict'>\n",
      "{'id': 'aaa', 'name': '가나다', 'age': 12} <class 'dict'>\n"
     ]
    }
   ],
   "source": [
    "# 정렬해서 가져오기 나이순으로 내림차순\n",
    "data3 = collection.find({},{'_id':0}).sort([(\"age\", pymongo.DESCENDING)])\n",
    "for tmp in data3:\n",
    "    print(tmp, type(tmp))"
   ]
  },
  {
   "cell_type": "code",
   "execution_count": 6,
   "id": "b1f6451d-aef2-409c-9810-c1084620ce2d",
   "metadata": {},
   "outputs": [
    {
     "name": "stdout",
     "output_type": "stream",
     "text": [
      "{'id': 'aaa', 'name': '다라마', 'age': 42} <class 'dict'>\n",
      "{'id': 'aaa', 'name': '다라마', 'age': 32} <class 'dict'>\n",
      "{'id': 'aaa', 'name': '가다라', 'age': 22} <class 'dict'>\n",
      "{'id': 'aaa', 'name': '가나다', 'age': 12} <class 'dict'>\n"
     ]
    }
   ],
   "source": [
    "# 정렬해서 가져오기 나이순으로 내림차순 (6개만)\n",
    "data3 = collection.find({},{'_id':0}).sort([(\"age\", pymongo.DESCENDING)]).limit(6)\n",
    "for tmp in data3:\n",
    "    print(tmp, type(tmp))"
   ]
  },
  {
   "cell_type": "code",
   "execution_count": 8,
   "id": "a7131608-4101-458e-9a6a-0a7e1a4eff05",
   "metadata": {},
   "outputs": [],
   "source": [
    "# id가 bbb인 것 가져오기\n",
    "data = collection.find({'id':'bbb'},{'_id':0})\n",
    "for tmp in data:\n",
    "    print(tmp, type(tmp))"
   ]
  },
  {
   "cell_type": "code",
   "execution_count": 9,
   "id": "337dabca-70f4-4f63-949e-a928f27e1cb8",
   "metadata": {},
   "outputs": [],
   "source": [
    "#  $eq  (equals) 주어진 값과 일치하는 값 \n",
    "#  $gt  (greater than) 주어진 값보다 큰 값 \n",
    "#  $gte  (greater than or equals) 주어진 값보다 크거나 같은 값 \n",
    "#  $lt  (less than) 주어진 값보다 작은 값 \n",
    "#  $lte  (less then or equals) 주어진 값보다 작거나 같은 값 \n",
    "#  $ne  (not equlas) 주어진 값과 일치하지 않는 값 \n",
    "#  $in  (in) 주어진 배열 안에 속하는 값\n",
    "#  $nin  (not in) 주어진 배열 안에 속하지 않는 값 \n",
    "\n",
    "# age가 50보다 큰것 가져오기\n",
    "data = collection.find({'age':{'$gt':50}},{'_id':0})\n",
    "for tmp in data:\n",
    "    print(tmp, type(tmp))"
   ]
  },
  {
   "cell_type": "code",
   "execution_count": 10,
   "id": "f21ef046-7eb1-49cc-9944-4e9689c52b84",
   "metadata": {},
   "outputs": [],
   "source": [
    "# 조건 and\n",
    "data = collection.find({'$and':[{'age':52},{'id':'fff'}]},{'_id':0})\n",
    "for tmp in data:\n",
    "    print(tmp, type(tmp))"
   ]
  },
  {
   "cell_type": "code",
   "execution_count": 11,
   "id": "ce1f869d-a664-407d-9d68-38f77bcf1e7d",
   "metadata": {},
   "outputs": [
    {
     "name": "stdout",
     "output_type": "stream",
     "text": [
      "{'id': 'aaa', 'name': '가나다', 'age': 12} <class 'dict'>\n",
      "{'id': 'aaa', 'name': '가다라', 'age': 22} <class 'dict'>\n",
      "{'id': 'aaa', 'name': '다라마', 'age': 32} <class 'dict'>\n",
      "{'id': 'aaa', 'name': '다라마', 'age': 42} <class 'dict'>\n"
     ]
    }
   ],
   "source": [
    "# 조건 or\n",
    "data = collection.find({'$or':[{'age':52},{'id':'aaa'}]},{'_id':0})\n",
    "for tmp in data:\n",
    "    print(tmp, type(tmp))"
   ]
  },
  {
   "cell_type": "code",
   "execution_count": 12,
   "id": "b840af5e-4e21-4b46-ba5b-bdecec2c872d",
   "metadata": {},
   "outputs": [
    {
     "name": "stdout",
     "output_type": "stream",
     "text": [
      "{'id': 'aaa', 'name': '가나다', 'age': 100} <class 'dict'>\n",
      "{'id': 'aaa', 'name': '가다라', 'age': 22} <class 'dict'>\n",
      "{'id': 'aaa', 'name': '다라마', 'age': 32} <class 'dict'>\n",
      "{'id': 'aaa', 'name': '다라마', 'age': 42} <class 'dict'>\n"
     ]
    }
   ],
   "source": [
    "# 수정하기 id가 aaa인 사용자의 age를 100으로 변경 (1개만 변경됨)\n",
    "data = collection.update_one({'id':'aaa'}, {'$set' : {'age':100}})\n",
    "# 전체 변경\n",
    "# data = collection.update_many({'id':'aaa'}, {'$set' : {'age':100}})\n",
    "\n",
    "data = collection.find({'id':'aaa'},{'_id':0})\n",
    "for tmp in data:\n",
    "    print(tmp, type(tmp))"
   ]
  },
  {
   "cell_type": "code",
   "execution_count": null,
   "id": "a0bee001-15ac-4d61-a6cb-2802deb6ca4e",
   "metadata": {},
   "outputs": [],
   "source": [
    "# 삭제 하기 id가 aaa인 1개\n",
    "data = collection.delete_one({'id':'aaa'})\n",
    "# 전체 삭제\n",
    "#data = collection.delete_many({'id':'aaa'})\n",
    "\n",
    "data = collection.find({'id':'aaa'},{'_id':0})\n",
    "for tmp in data:\n",
    "    print(tmp, type(tmp))"
   ]
  }
 ],
 "metadata": {
  "kernelspec": {
   "display_name": "Python 3",
   "language": "python",
   "name": "python3"
  },
  "language_info": {
   "codemirror_mode": {
    "name": "ipython",
    "version": 3
   },
   "file_extension": ".py",
   "mimetype": "text/x-python",
   "name": "python",
   "nbconvert_exporter": "python",
   "pygments_lexer": "ipython3",
   "version": "3.8.8"
  }
 },
 "nbformat": 4,
 "nbformat_minor": 5
}
